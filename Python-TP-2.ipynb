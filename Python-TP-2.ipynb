{
 "cells": [
  {
   "cell_type": "markdown",
   "id": "d68c1dee",
   "metadata": {
    "id": "d68c1dee"
   },
   "source": [
    "# Practical_2: String and files"
   ]
  },
  {
   "cell_type": "markdown",
   "id": "27bc44c0",
   "metadata": {},
   "source": [
    "# Exercise 1:\n",
    "Create a string variable `text` and assign it the value `\"Python is amazing!\"`.\n",
    "\n",
    "```python\n",
    "# Exercise 1\n",
    "```"
   ]
  },
  {
   "cell_type": "code",
   "execution_count": 17,
   "id": "1f1a7864",
   "metadata": {},
   "outputs": [
    {
     "data": {
      "text/plain": [
       "'Python is amazing!'"
      ]
     },
     "execution_count": 17,
     "metadata": {},
     "output_type": "execute_result"
    }
   ],
   "source": [
    "text=\"Python is amazing!\"\n",
    "text"
   ]
  },
  {
   "cell_type": "markdown",
   "id": "600b1dc3",
   "metadata": {},
   "source": [
    "# Exercise 2:\n",
    "Find the length of the string `\"Hello, World!\"` and store it in a variable `length`.\n",
    "\n",
    "```python\n",
    "# Exercise 2\n",
    "```"
   ]
  },
  {
   "cell_type": "code",
   "execution_count": 18,
   "id": "4f21398a",
   "metadata": {},
   "outputs": [
    {
     "data": {
      "text/plain": [
       "13"
      ]
     },
     "execution_count": 18,
     "metadata": {},
     "output_type": "execute_result"
    }
   ],
   "source": [
    "length=\"Hello, World!\"\n",
    "len(length)"
   ]
  },
  {
   "cell_type": "markdown",
   "id": "4873ee6d",
   "metadata": {},
   "source": [
    "# Exercise 3:\n",
    "Convert the string `\"python programming\"` to uppercase and store it in a variable `upper_text`.\n",
    "\n",
    "```python\n",
    "# Exercise 3\n",
    "```"
   ]
  },
  {
   "cell_type": "code",
   "execution_count": 19,
   "id": "29559a84",
   "metadata": {},
   "outputs": [
    {
     "name": "stdout",
     "output_type": "stream",
     "text": [
      "PYTHON PROGRAMMING\n"
     ]
    }
   ],
   "source": [
    "string_sentence=\"python programming\"\n",
    "upper_text=string_sentence.upper()\n",
    "print(upper_text)"
   ]
  },
  {
   "cell_type": "markdown",
   "id": "b762265d",
   "metadata": {},
   "source": [
    "# Exercise 4:\n",
    "Extract the first 5 characters from the string `\"Artificial Intelligence\"`.\n",
    "\n",
    "```python\n",
    "# Exercise 4\n",
    "```"
   ]
  },
  {
   "cell_type": "code",
   "execution_count": 20,
   "id": "e34df672",
   "metadata": {},
   "outputs": [
    {
     "name": "stdout",
     "output_type": "stream",
     "text": [
      "Artif\n"
     ]
    }
   ],
   "source": [
    "sentence=\"Artificial Intelligence\"\n",
    "result=sentence[0:5]\n",
    "print(result)"
   ]
  },
  {
   "cell_type": "markdown",
   "id": "2bee4136",
   "metadata": {},
   "source": [
    "# Exercise 5:\n",
    "Concatenate the strings `\"Hello\"` and `\"World\"` with a space in between.\n",
    "\n",
    "```python\n",
    "# Exercise 5\n",
    "```"
   ]
  },
  {
   "cell_type": "code",
   "execution_count": 21,
   "id": "53f306ab",
   "metadata": {},
   "outputs": [
    {
     "name": "stdout",
     "output_type": "stream",
     "text": [
      "Hello World\n"
     ]
    }
   ],
   "source": [
    "string_1=\"Hello\"\n",
    "string_2=\"World\"\n",
    "string_3=string_1+ \" \" +string_2\n",
    "print(string_3)"
   ]
  },
  {
   "cell_type": "markdown",
   "id": "dadaaa5a",
   "metadata": {},
   "source": [
    "# Exercise 6:\n",
    "Replace the word `\"dog\"` with `\"cat\"` in the string `\"The quick brown dog jumps over the lazy dog.\"`.\n",
    "\n",
    "```python\n",
    "# Exercise 6\n",
    "```"
   ]
  },
  {
   "cell_type": "code",
   "execution_count": 116,
   "id": "54466363",
   "metadata": {},
   "outputs": [
    {
     "name": "stdout",
     "output_type": "stream",
     "text": [
      "The quick brown cat jumps over the lazy dog.\n"
     ]
    }
   ],
   "source": [
    "string=\"The quick brown dog jumps over the lazy dog.\"\n",
    "string = string.replace(\"dog\", \"cat\", 1)\n",
    "print(string)"
   ]
  },
  {
   "cell_type": "markdown",
   "id": "aae058bd",
   "metadata": {},
   "source": [
    "# Exercise 7:\n",
    "Split the string `\"apple,banana,orange\"` by commas and store the result in a list `fruits_list`.\n",
    "\n",
    "```python\n",
    "# Exercise 7\n",
    "```\n"
   ]
  },
  {
   "cell_type": "code",
   "execution_count": 23,
   "id": "b1e3de45",
   "metadata": {},
   "outputs": [
    {
     "data": {
      "text/plain": [
       "['apple', 'banana', 'orange']"
      ]
     },
     "execution_count": 23,
     "metadata": {},
     "output_type": "execute_result"
    }
   ],
   "source": [
    "fruits_list=[\"apple\",\"banana\",\"orange\"]\n",
    "fruits_list"
   ]
  },
  {
   "cell_type": "markdown",
   "id": "f70511bd",
   "metadata": {},
   "source": [
    "# Exercise 8:\n",
    "Use string formatting to create the sentence `\"My name is Alice and I am 25 years old.\"`, where the name and age are variables.\n",
    "\n",
    "```python\n",
    "# Exercise 8\n",
    "```"
   ]
  },
  {
   "cell_type": "code",
   "execution_count": 24,
   "id": "b768cd9e",
   "metadata": {},
   "outputs": [
    {
     "name": "stdout",
     "output_type": "stream",
     "text": [
      "My name is Alice and I am 25 years old.\n"
     ]
    }
   ],
   "source": [
    "name = \"Alice\"\n",
    "age = 25\n",
    "sentence=f\"My name is {name} and I am {age} years old.\"\n",
    "print(sentence)"
   ]
  },
  {
   "cell_type": "markdown",
   "id": "ba795f98",
   "metadata": {},
   "source": [
    "# Exercise 9:\n",
    "Check if the string `\"python\"` is present in the sentence `\"I love python programming\"`.\n",
    "\n",
    "```python\n",
    "# Exercise 9\n",
    "```"
   ]
  },
  {
   "cell_type": "code",
   "execution_count": 25,
   "id": "0ac38a43",
   "metadata": {},
   "outputs": [
    {
     "name": "stdout",
     "output_type": "stream",
     "text": [
      "True\n"
     ]
    }
   ],
   "source": [
    "sentence=\"I love python programming\"\n",
    "string=\"python\"\n",
    "if string in sentence:\n",
    "    print(True)\n",
    "else:\n",
    "    print(False)"
   ]
  },
  {
   "cell_type": "markdown",
   "id": "06443166",
   "metadata": {},
   "source": [
    "# Exercise 10:\n",
    "Count the number of occurrences of the letter `\"e\"` in the string `\"Elephant is an elegant animal\"`.\n",
    "\n",
    "```python\n",
    "# Exercise 10\n",
    "```"
   ]
  },
  {
   "cell_type": "code",
   "execution_count": 26,
   "id": "c0d96831",
   "metadata": {},
   "outputs": [
    {
     "name": "stdout",
     "output_type": "stream",
     "text": [
      "Number of lowercase 'e': 3\n",
      "Total 'e' (case-insensitive): 4\n"
     ]
    }
   ],
   "source": [
    "text = \"Elephant is an elegant animal\"\n",
    "count_lower = text.count('e')\n",
    "print(\"Number of lowercase 'e':\", count_lower)\n",
    "count_all = text.lower().count('e')\n",
    "print(\"Total 'e' (case-insensitive):\", count_all)\n"
   ]
  },
  {
   "cell_type": "markdown",
   "id": "632f9d03",
   "metadata": {},
   "source": [
    "# Exercise 11:\n",
    "Remove any leading and trailing spaces from the string `\"   Data Science   \"`.\n",
    "\n",
    "```python\n",
    "# Exercise 11\n",
    "```"
   ]
  },
  {
   "cell_type": "code",
   "execution_count": 27,
   "id": "8df216af",
   "metadata": {},
   "outputs": [
    {
     "name": "stdout",
     "output_type": "stream",
     "text": [
      "Data Science\n"
     ]
    }
   ],
   "source": [
    "text = \"   Data Science   \"\n",
    "clean_text = text.strip()\n",
    "print(clean_text)\n"
   ]
  },
  {
   "cell_type": "markdown",
   "id": "ea778a9e",
   "metadata": {},
   "source": [
    "# Exercise 12:\n",
    "Convert the string `\"100\"` into an integer and store it in a variable `int_value`.\n",
    "\n",
    "```python\n",
    "# Exercise 12\n",
    "```"
   ]
  },
  {
   "cell_type": "code",
   "execution_count": 28,
   "id": "f5915d15",
   "metadata": {},
   "outputs": [
    {
     "name": "stdout",
     "output_type": "stream",
     "text": [
      "100\n",
      "<class 'int'>\n"
     ]
    }
   ],
   "source": [
    "string_value = \"100\"\n",
    "int_value = int(string_value)\n",
    "print(int_value)\n",
    "print(type(int_value))\n"
   ]
  },
  {
   "cell_type": "markdown",
   "id": "d530bf5b",
   "metadata": {},
   "source": [
    "# Exercise 13:\n",
    "Extract the substring `\"pro\"` from the string `\"programming\"`.\n",
    "\n",
    "```python\n",
    "# Exercise 13\n",
    "```"
   ]
  },
  {
   "cell_type": "code",
   "execution_count": 29,
   "id": "85b77668",
   "metadata": {},
   "outputs": [
    {
     "name": "stdout",
     "output_type": "stream",
     "text": [
      "pro\n"
     ]
    }
   ],
   "source": [
    "text = \"programming\"\n",
    "substring = text[0:3]\n",
    "print(substring)\n"
   ]
  },
  {
   "cell_type": "markdown",
   "id": "e1d61b58",
   "metadata": {},
   "source": [
    "# Exercise 14:\n",
    "Check if the string `\"data\"` starts with `\"da\"` and ends with `\"ta\"`.\n",
    "\n",
    "```python\n",
    "# Exercise 14\n",
    "```\n"
   ]
  },
  {
   "cell_type": "code",
   "execution_count": 30,
   "id": "ed294226",
   "metadata": {},
   "outputs": [
    {
     "name": "stdout",
     "output_type": "stream",
     "text": [
      "Starts with 'da': True\n",
      "Ends with 'ta': True\n"
     ]
    }
   ],
   "source": [
    "text = \"data\"\n",
    "\n",
    "starts = text.startswith(\"da\")\n",
    "ends = text.endswith(\"ta\")\n",
    "\n",
    "print(\"Starts with 'da':\", starts)\n",
    "print(\"Ends with 'ta':\", ends)\n"
   ]
  },
  {
   "cell_type": "markdown",
   "id": "532299dc",
   "metadata": {},
   "source": [
    "# Exercise 15:\n",
    "Reverse the string `\"machine learning\"` and store the result in `reversed_text`.\n",
    "\n",
    "```python\n",
    "# Exercise 15\n",
    "```"
   ]
  },
  {
   "cell_type": "code",
   "execution_count": 31,
   "id": "9126cbe2",
   "metadata": {},
   "outputs": [
    {
     "name": "stdout",
     "output_type": "stream",
     "text": [
      "gninrael enihcam\n"
     ]
    }
   ],
   "source": [
    "text = \"machine learning\"\n",
    "reversed_text = text[::-1]\n",
    "\n",
    "print(reversed_text)\n"
   ]
  },
  {
   "cell_type": "markdown",
   "id": "c9f3ebe5",
   "metadata": {},
   "source": [
    "# Exercise 16:\n",
    "Convert the first letter of each word in the string `\"machine learning is fun\"` to uppercase.\n",
    "\n",
    "```python\n",
    "# Exercise 16\n",
    "```"
   ]
  },
  {
   "cell_type": "code",
   "execution_count": 32,
   "id": "d6c0a748",
   "metadata": {},
   "outputs": [
    {
     "name": "stdout",
     "output_type": "stream",
     "text": [
      "Machine Learning Is Fun\n"
     ]
    }
   ],
   "source": [
    "text = \"machine learning is fun\"\n",
    "capitalized_text = text.title()\n",
    "\n",
    "print(capitalized_text)\n"
   ]
  },
  {
   "cell_type": "markdown",
   "id": "217ccfb5",
   "metadata": {},
   "source": [
    "# Exercise 17:\n",
    "Create a multiline string representing a poem and store it in a variable `poem`.\n",
    "\n",
    "```python\n",
    "# Exercise 17\n",
    "```"
   ]
  },
  {
   "cell_type": "code",
   "execution_count": 33,
   "id": "a09a872e",
   "metadata": {},
   "outputs": [
    {
     "name": "stdout",
     "output_type": "stream",
     "text": [
      "Roses are red,\n",
      "Violets are blue,\n",
      "Python is fun,\n",
      "And so are you.\n"
     ]
    }
   ],
   "source": [
    "poem = \"\"\"Roses are red,\n",
    "Violets are blue,\n",
    "Python is fun,\n",
    "And so are you.\"\"\"\n",
    "\n",
    "print(poem)\n"
   ]
  },
  {
   "cell_type": "markdown",
   "id": "66fabcfc",
   "metadata": {},
   "source": [
    "# Exercise 18:\n",
    "Write a string to a file named `\"output.txt\"`.\n",
    "\n",
    "```python\n",
    "# Exercise 18\n",
    "```"
   ]
  },
  {
   "cell_type": "code",
   "execution_count": 34,
   "id": "745e0d9b",
   "metadata": {},
   "outputs": [
    {
     "name": "stdout",
     "output_type": "stream",
     "text": [
      "Text written successfully to output.txt\n"
     ]
    }
   ],
   "source": [
    "\n",
    "text = \"Hello, this is a test message\"\n",
    "with open(\"output.txt\", \"w\") as file:\n",
    "    file.write(text)\n",
    "print(\"Text written successfully to output.txt\")\n"
   ]
  },
  {
   "cell_type": "markdown",
   "id": "e2136b58",
   "metadata": {},
   "source": [
    "### Exercise 19:\n",
    "Read the contents of a file named `\"data.txt\"` and print it line by line.\n",
    "\n",
    "```python\n",
    "# Exercise 19\n",
    "```"
   ]
  },
  {
   "cell_type": "code",
   "execution_count": 35,
   "id": "7da46c6c",
   "metadata": {},
   "outputs": [
    {
     "name": "stdout",
     "output_type": "stream",
     "text": [
      "Roses are red,\n",
      "Violets are blue,\n",
      "Python is fun,\n",
      "And so are you\n"
     ]
    }
   ],
   "source": [
    "with open(\"data.txt\", \"r\") as file:\n",
    "    for line in file:\n",
    "        print(line.strip())  \n"
   ]
  },
  {
   "cell_type": "markdown",
   "id": "1908b51c",
   "metadata": {},
   "source": [
    "# Exercise 20:\n",
    "Check if a file `\"example.txt\"` exists before opening it.\n",
    "\n",
    "```python\n",
    "# Exercise 20\n",
    "```"
   ]
  },
  {
   "cell_type": "code",
   "execution_count": 140,
   "id": "dec5797c",
   "metadata": {
    "scrolled": true
   },
   "outputs": [
    {
     "name": "stdout",
     "output_type": "stream",
     "text": [
      "File content:\n",
      "python programming\n"
     ]
    }
   ],
   "source": [
    "filename = \"example.txt\"\n",
    "import os\n",
    "if os.path.exists(filename):\n",
    "    with open(filename, \"r\") as file:\n",
    "        content = file.read()\n",
    "        print(\"File content:\")\n",
    "        print(content)\n",
    "else:\n",
    "    print(f\"The file '{filename}' does not exist.\")\n"
   ]
  },
  {
   "cell_type": "markdown",
   "id": "308bca72",
   "metadata": {},
   "source": [
    "# Exercise 21:\n",
    "Append a new line `\"This is a new line\"` to an existing file `\"notes.txt\"`.\n",
    "\n",
    "```python\n",
    "# Exercise 21\n",
    "\n",
    "```"
   ]
  },
  {
   "cell_type": "code",
   "execution_count": 141,
   "id": "9465c861",
   "metadata": {},
   "outputs": [
    {
     "name": "stdout",
     "output_type": "stream",
     "text": [
      "New line appended successfully to notes.txt\n"
     ]
    }
   ],
   "source": [
    "with open(\"notes.txt\", \"a\") as file:\n",
    "    file.write(\"\\nThis is a new line\")\n",
    "\n",
    "print(\"New line appended successfully to notes.txt\")\n"
   ]
  },
  {
   "cell_type": "markdown",
   "id": "4cc2fc33",
   "metadata": {},
   "source": [
    "# Exercise 22:\n",
    "Read the contents of a file `\"log.txt\"` and store each line in a list `log_lines`.\n",
    "\n",
    "```python\n",
    "# Exercise 22\n",
    "```"
   ]
  },
  {
   "cell_type": "code",
   "execution_count": 142,
   "id": "b096f14b",
   "metadata": {},
   "outputs": [
    {
     "name": "stdout",
     "output_type": "stream",
     "text": [
      "['log1, log2, log3']\n"
     ]
    }
   ],
   "source": [
    "filename = \"log.txt\"\n",
    "with open(filename, \"r\") as file:\n",
    "    log_lines = file.readlines()\n",
    "log_lines = [line.strip() for line in log_lines]\n",
    "print(log_lines)\n"
   ]
  },
  {
   "cell_type": "markdown",
   "id": "31b01189",
   "metadata": {},
   "source": [
    "# Exercise 23:\n",
    "Create a new file `\"report.txt\"` and write the string `\"Data analysis report\"` to it.\n",
    "\n",
    "```python\n",
    "# Exercise 23\n",
    "```"
   ]
  },
  {
   "cell_type": "code",
   "execution_count": 143,
   "id": "8c2f7a7a",
   "metadata": {},
   "outputs": [
    {
     "name": "stdout",
     "output_type": "stream",
     "text": [
      "Text written successfully to report.txt\n"
     ]
    }
   ],
   "source": [
    "filename = \"report.txt\"\n",
    "text = \"Data analysis report\"\n",
    "with open(filename, \"w\") as file:\n",
    "    file.write(text)\n",
    "print(\"Text written successfully to report.txt\")\n"
   ]
  },
  {
   "cell_type": "markdown",
   "id": "7a56f532",
   "metadata": {},
   "source": [
    "# Exercise 24:\n",
    "Replace the word `\"error\"` with `\"issue\"` in a file `\"log.txt\"`.\n",
    "\n",
    "```python\n",
    "# Exercise 24\n",
    "```"
   ]
  },
  {
   "cell_type": "code",
   "execution_count": 144,
   "id": "d3227220",
   "metadata": {},
   "outputs": [
    {
     "name": "stdout",
     "output_type": "stream",
     "text": [
      "All occurrences of 'error' have been replaced with 'issue'.\n"
     ]
    }
   ],
   "source": [
    "filename = \"log.txt\"\n",
    "with open(filename, \"r\") as file:\n",
    "    content = file.read()\n",
    "content = content.replace(\"error\", \"issue\")\n",
    "with open(filename, \"w\") as file:\n",
    "    file.write(content)\n",
    "\n",
    "print(\"All occurrences of 'error' have been replaced with 'issue'.\")\n"
   ]
  },
  {
   "cell_type": "markdown",
   "id": "b3ac7a25",
   "metadata": {},
   "source": [
    "# Exercise 25:\n",
    "Count the number of words in a text file `\"document.txt\"`.\n",
    "\n",
    "```python\n",
    "# Exercise 25\n",
    "```"
   ]
  },
  {
   "cell_type": "code",
   "execution_count": 145,
   "id": "211ae40a",
   "metadata": {},
   "outputs": [
    {
     "name": "stdout",
     "output_type": "stream",
     "text": [
      "Number of words in the file: 19\n"
     ]
    }
   ],
   "source": [
    "filename = \"document.txt\"\n",
    "\n",
    "with open(filename, \"r\") as file:\n",
    "    content = file.read()\n",
    "word_count = len(content.split())\n",
    "\n",
    "print(\"Number of words in the file:\", word_count)\n"
   ]
  },
  {
   "cell_type": "markdown",
   "id": "52368b3f",
   "metadata": {},
   "source": [
    "# Exercise 26:\n",
    "Write a Python script that reads a file `\"essay.txt\"` and prints the total number of lines, words, and characters.\n",
    "\n",
    "```python\n",
    "# Exercise 26\n",
    "```"
   ]
  },
  {
   "cell_type": "code",
   "execution_count": 146,
   "id": "7caa3db0",
   "metadata": {},
   "outputs": [
    {
     "name": "stdout",
     "output_type": "stream",
     "text": [
      "Total lines: 1\n",
      "Total words: 77\n",
      "Total characters: 487\n"
     ]
    }
   ],
   "source": [
    "filename = \"essay.txt\"\n",
    "line_count = 0\n",
    "word_count = 0\n",
    "char_count = 0\n",
    "\n",
    "with open(filename, \"r\") as file:\n",
    "    for line in file:\n",
    "        line_count += 1\n",
    "        word_count += len(line.split())\n",
    "        char_count += len(line)\n",
    "\n",
    "print(f\"Total lines: {line_count}\")\n",
    "print(f\"Total words: {word_count}\")\n",
    "print(f\"Total characters: {char_count}\")\n"
   ]
  },
  {
   "cell_type": "markdown",
   "id": "4357508a",
   "metadata": {},
   "source": [
    "# Exercise 27:\n",
    "Copy the contents of one file `\"source.txt\"` to another file `\"destination.txt\"`.\n",
    "\n",
    "```python\n",
    "# Exercise 27\n",
    "```"
   ]
  },
  {
   "cell_type": "code",
   "execution_count": 147,
   "id": "a73f8644",
   "metadata": {},
   "outputs": [
    {
     "name": "stdout",
     "output_type": "stream",
     "text": [
      "Contents of source.txt have been copied to destination.txt.\n"
     ]
    }
   ],
   "source": [
    "source_file = \"source.txt\"\n",
    "destination_file = \"destination.txt\"\n",
    "with open(source_file, \"r\") as src:\n",
    "    content = src.read()\n",
    "with open(destination_file, \"w\") as dest:\n",
    "    dest.write(content)\n",
    "\n",
    "print(f\"Contents of {source_file} have been copied to {destination_file}.\")\n"
   ]
  },
  {
   "cell_type": "markdown",
   "id": "09cbcc6e",
   "metadata": {},
   "source": [
    "# Exercise 28:\n",
    "Write a Python function that takes a filename as input and returns the number of lines in the file.\n",
    "\n",
    "```python\n",
    "# Exercise 28\n",
    "```"
   ]
  },
  {
   "cell_type": "code",
   "execution_count": 148,
   "id": "0b2c67e6",
   "metadata": {},
   "outputs": [
    {
     "name": "stdout",
     "output_type": "stream",
     "text": [
      "Number of lines in 'essay.txt': 1\n"
     ]
    }
   ],
   "source": [
    "def count_lines(filename):\n",
    "    with open(filename, \"r\") as file:\n",
    "        filename = \"example.txt\"\n",
    "        num_lines = count_lines(filename)\n",
    "print(f\"Number of lines in '{filename}':\", num_lines)\n"
   ]
  },
  {
   "cell_type": "markdown",
   "id": "2ee3ce59",
   "metadata": {},
   "source": [
    "# Exercise 29:\n",
    "Extract all the words from a text file `\"article.txt\"` that contain more than 5 characters.\n",
    "\n",
    "```python\n",
    "# Exercise 29\n",
    "```"
   ]
  },
  {
   "cell_type": "code",
   "execution_count": 149,
   "id": "2888eaf3",
   "metadata": {},
   "outputs": [
    {
     "name": "stdout",
     "output_type": "stream",
     "text": [
      "Words with more than 5 characters:\n",
      "['article', 'journal', 'factuel', 'informatif', 'publié', 'presse', 'écrite', 'ligne,', 'relate', 'événement,', 'présente', 'expose', \"d'actualité.\", 'respecte', 'structure', 'spécifique', '(titre,', 'chapeau,', 'intertitres,', 'etc.),', 'sources', 'fiables', 'rédigé', 'neutre.', \"s'agir\", 'différents', 'formats,', 'reportage,', 'compte', 'brève.']\n"
     ]
    }
   ],
   "source": [
    "filename = \"article.txt\"\n",
    "long_words = []\n",
    "\n",
    "with open(filename, \"r\",encoding=\"utf-8\") as file:\n",
    "    for line in file:\n",
    "        words = line.split()\n",
    "        long_words.extend([word for word in words if len(word) > 5])\n",
    "\n",
    "print(\"Words with more than 5 characters:\")\n",
    "print(long_words)\n"
   ]
  },
  {
   "cell_type": "markdown",
   "id": "e967d015",
   "metadata": {},
   "source": [
    "# Exercise 30:\n",
    "Convert the contents of a file `\"notes.txt\"` to uppercase and save the result in another file `\"uppercase_notes.txt\"`.\n",
    "\n",
    "```python\n",
    "# Exercise 30\n",
    "```"
   ]
  },
  {
   "cell_type": "code",
   "execution_count": 150,
   "id": "8e5ad73e",
   "metadata": {},
   "outputs": [
    {
     "name": "stdout",
     "output_type": "stream",
     "text": [
      "Contents of notes.txt have been converted to uppercase and saved in uppercase_notes.txt.\n"
     ]
    }
   ],
   "source": [
    "source_file = \"notes.txt\"\n",
    "destination_file = \"uppercase_notes.txt\"\n",
    "\n",
    "with open(source_file, \"r\") as src:\n",
    "    content = src.read()\n",
    "content_upper = content.upper()\n",
    "with open(destination_file, \"w\") as dest:\n",
    "    dest.write(content_upper)\n",
    "\n",
    "print(f\"Contents of {source_file} have been converted to uppercase and saved in {destination_file}.\")\n"
   ]
  },
  {
   "cell_type": "markdown",
   "id": "59cd1104",
   "metadata": {},
   "source": [
    "# Exercise 31:\n",
    "Write a Python script that reads a file and removes all empty lines.\n",
    "\n",
    "```python\n",
    "# Exercise 31\n",
    "```"
   ]
  },
  {
   "cell_type": "code",
   "execution_count": 151,
   "id": "9fe0a1e8",
   "metadata": {},
   "outputs": [
    {
     "name": "stdout",
     "output_type": "stream",
     "text": [
      "Empty lines have been removed from input.txt.\n"
     ]
    }
   ],
   "source": [
    "filename = \"input.txt\"\n",
    "with open(filename, \"r\") as file:\n",
    "    lines = [line for line in file if line.strip() != \"\"]\n",
    "\n",
    "with open(filename, \"w\") as file:\n",
    "    file.writelines(lines)\n",
    "\n",
    "print(f\"Empty lines have been removed from {filename}.\")\n"
   ]
  },
  {
   "cell_type": "markdown",
   "id": "553be818",
   "metadata": {},
   "source": [
    "# Exercise 32:\n",
    "Open a file `\"config.txt\"` in both read and write mode.\n",
    "\n",
    "```python\n",
    "# Exercise 32\n",
    "```"
   ]
  },
  {
   "cell_type": "code",
   "execution_count": 152,
   "id": "677da335",
   "metadata": {},
   "outputs": [
    {
     "name": "stdout",
     "output_type": "stream",
     "text": [
      "Current content:\n",
      "\n",
      "New configuration line\n",
      "New configuration line\n",
      "New configuration line\n",
      "New configuration line\n",
      "New configuration line\n",
      "New configuration line\n",
      "New configuration line\n",
      "File 'config.txt' has been read and updated.\n"
     ]
    }
   ],
   "source": [
    "filename = \"config.txt\"\n",
    "\n",
    "with open(filename, \"r+\") as file:\n",
    "    content = file.read()\n",
    "    print(\"Current content:\")\n",
    "    print(content)\n",
    "    file.seek(0, 2)\n",
    "    file.write(\"\\nNew configuration line\")\n",
    "\n",
    "print(f\"File '{filename}' has been read and updated.\")\n"
   ]
  },
  {
   "cell_type": "markdown",
   "id": "5644af71",
   "metadata": {},
   "source": [
    "### Exercise 33:\n",
    "Write a Python function that reads a file and prints the longest line in the file.\n",
    "\n",
    "```python\n",
    "# Exercise 33\n",
    "```"
   ]
  },
  {
   "cell_type": "code",
   "execution_count": 153,
   "id": "e685da8e",
   "metadata": {},
   "outputs": [
    {
     "name": "stdout",
     "output_type": "stream",
     "text": [
      "Longest line in the file:\n",
      "python programming\n"
     ]
    }
   ],
   "source": [
    "def print_longest_line(filename):\n",
    "    try:\n",
    "        with open(filename, \"r\") as file:\n",
    "            max_length = 0\n",
    "            longest_line = \"\"\n",
    "            \n",
    "            for line in file:\n",
    "                line_length = len(line.rstrip(\"\\n\"))\n",
    "                if line_length > max_length:\n",
    "                    max_length = line_length\n",
    "                    longest_line = line.rstrip(\"\\n\")\n",
    "        \n",
    "        print(\"Longest line in the file:\")\n",
    "        print(longest_line)\n",
    "    except FileNotFoundError:\n",
    "        print(f\"Error: The file '{filename}' does not exist.\")\n",
    "print_longest_line(\"example.txt\")\n"
   ]
  },
  {
   "cell_type": "markdown",
   "id": "c22d7d66",
   "metadata": {},
   "source": [
    "# Exercise 34:\n",
    "Write a Python script to count the frequency of each letter in a text file `\"message.txt\"`.\n",
    "\n",
    "```python\n",
    "# Exercise 34\n",
    "```\n"
   ]
  },
  {
   "cell_type": "code",
   "execution_count": 154,
   "id": "9c89a477",
   "metadata": {},
   "outputs": [
    {
     "name": "stdout",
     "output_type": "stream",
     "text": [
      "a: 4\n",
      "b: 1\n",
      "d: 2\n",
      "e: 7\n",
      "f: 1\n",
      "h: 1\n",
      "i: 2\n",
      "l: 2\n",
      "n: 3\n",
      "o: 5\n",
      "p: 1\n",
      "r: 5\n",
      "s: 5\n",
      "t: 2\n",
      "u: 3\n",
      "v: 1\n",
      "y: 2\n"
     ]
    }
   ],
   "source": [
    "filename = \"message.txt\"\n",
    "with open(filename, \"r\") as file:\n",
    "    content = file.read().lower() \n",
    "letters_only = [ch for ch in content if ch.isalpha()]\n",
    "frequency = Counter(letters_only)\n",
    "for letter, count in sorted(frequency.items()):\n",
    "    print(f\"{letter}: {count}\")\n"
   ]
  },
  {
   "cell_type": "markdown",
   "id": "56a6d2ac",
   "metadata": {},
   "source": [
    "### Exercise 35:\n",
    "Write a Python script that reads a file and prints the total number of characters, excluding spaces.\n",
    "\n",
    "```python\n",
    "# Exercise 35\n",
    "```"
   ]
  },
  {
   "cell_type": "code",
   "execution_count": 155,
   "id": "8720e8a4",
   "metadata": {},
   "outputs": [
    {
     "name": "stdout",
     "output_type": "stream",
     "text": [
      "Total number of characters (excluding spaces): 388\n"
     ]
    }
   ],
   "source": [
    "filename = \"input.txt\"\n",
    "\n",
    "with open(filename, \"r\") as file:\n",
    "    content = file.read()\n",
    "char_count = len(content.replace(\" \", \"\").replace(\"\\n\", \"\"))\n",
    "\n",
    "print(f\"Total number of characters (excluding spaces): {char_count}\")\n"
   ]
  },
  {
   "cell_type": "markdown",
   "id": "c7d4535e",
   "metadata": {},
   "source": [
    "# Exercise 36:\n",
    "Create a Python script to check whether a file is empty or not.\n",
    "\n",
    "```python\n",
    "# Exercise 36\n",
    "```"
   ]
  },
  {
   "cell_type": "code",
   "execution_count": 156,
   "id": "3a8c37ff",
   "metadata": {},
   "outputs": [
    {
     "name": "stdout",
     "output_type": "stream",
     "text": [
      "The file 'example.txt' is not empty.\n"
     ]
    }
   ],
   "source": [
    "filename = \"example.txt\"\n",
    "\n",
    "if os.path.exists(filename):\n",
    "    if os.path.getsize(filename) == 0:\n",
    "        print(f\"The file '{filename}' is empty.\")\n",
    "    else:\n",
    "        print(f\"The file '{filename}' is not empty.\")\n",
    "else:\n",
    "    print(f\"The file '{filename}' does not exist.\")\n"
   ]
  },
  {
   "cell_type": "markdown",
   "id": "3a879b3d",
   "metadata": {},
   "source": [
    "# Exercise 37:\n",
    "Write a Python function that reads a file and removes all punctuation marks from the text.\n",
    "\n",
    "```python\n",
    "# Exercise 37\n",
    "```"
   ]
  },
  {
   "cell_type": "code",
   "execution_count": 157,
   "id": "77b76c24",
   "metadata": {},
   "outputs": [
    {
     "name": "stdout",
     "output_type": "stream",
     "text": [
      "All punctuation has been removed from 'example.txt'.\n"
     ]
    }
   ],
   "source": [
    "import string\n",
    "def remove_punctuation(filename):\n",
    "    try:\n",
    "        with open(filename, \"r\") as file:\n",
    "            content = file.read()\n",
    "        cleaned_text = content.translate(str.maketrans(\"\", \"\", string.punctuation))\n",
    "        with open(filename, \"w\") as file:\n",
    "            file.write(cleaned_text)\n",
    "\n",
    "        print(f\"All punctuation has been removed from '{filename}'.\")\n",
    "    \n",
    "    except FileNotFoundError:\n",
    "        print(f\"Error: The file '{filename}' does not exist.\")\n",
    "remove_punctuation(\"example.txt\")\n"
   ]
  },
  {
   "cell_type": "markdown",
   "id": "79a20b3d",
   "metadata": {},
   "source": [
    "# Exercise 38:\n",
    "Create a Python function that writes a list of strings to a file, each string on a new line.\n",
    "\n",
    "```python\n",
    "# Exercise 38\n",
    "```"
   ]
  },
  {
   "cell_type": "code",
   "execution_count": 158,
   "id": "7c68bfb0",
   "metadata": {},
   "outputs": [
    {
     "name": "stdout",
     "output_type": "stream",
     "text": [
      "List successfully written to 'topics.txt'.\n"
     ]
    }
   ],
   "source": [
    "def write_list_to_file(filename, lines):\n",
    "    try:\n",
    "        with open(filename, \"w\") as file:\n",
    "            for line in lines:\n",
    "                file.write(line + \"\\n\")\n",
    "        print(f\"List successfully written to '{filename}'.\")\n",
    "    except Exception as e:\n",
    "        print(f\"An error occurred: {e}\")\n",
    "lines = [\"Data Science\", \"Machine Learning\", \"Artificial Intelligence\"]\n",
    "write_list_to_file(\"topics.txt\", lines)\n"
   ]
  },
  {
   "cell_type": "markdown",
   "id": "f563ff1d",
   "metadata": {},
   "source": [
    "# Exercise 39:\n",
    "Write a Python script to count the number of lines that start with a specific letter (e.g., \"A\") in a text file.\n",
    "\n",
    "```python\n",
    "# Exercise 39\n",
    "```"
   ]
  },
  {
   "cell_type": "code",
   "execution_count": 159,
   "id": "d730b92c",
   "metadata": {},
   "outputs": [
    {
     "name": "stdout",
     "output_type": "stream",
     "text": [
      "Number of lines starting with 'A': 0\n"
     ]
    }
   ],
   "source": [
    "def count_lines_starting_with(filename, letter):\n",
    "    try:\n",
    "        count = 0\n",
    "        with open(filename, \"r\") as file:\n",
    "            for line in file:\n",
    "                if line.strip().startswith(letter):\n",
    "                    count += 1\n",
    "        print(f\"Number of lines starting with '{letter}': {count}\")\n",
    "    except FileNotFoundError:\n",
    "        print(f\"Error: The file '{filename}' does not exist.\")\n",
    "count_lines_starting_with(\"example.txt\", \"A\")\n"
   ]
  },
  {
   "cell_type": "markdown",
   "id": "34601188",
   "metadata": {},
   "source": [
    "# Exercise 40:\n",
    "Write a Python function that takes a string as input and writes it to a file `\"output.txt\"` in reverse order.\n",
    "\n",
    "```python\n",
    "# Exercise 40\n",
    "```"
   ]
  },
  {
   "cell_type": "code",
   "execution_count": 160,
   "id": "6d4ec154",
   "metadata": {},
   "outputs": [
    {
     "name": "stdout",
     "output_type": "stream",
     "text": [
      "Reversed text has been written to \"output.txt\".\n"
     ]
    }
   ],
   "source": [
    "def write_reversed_string(text):\n",
    "    reversed_text = text[::-1]  \n",
    "    with open(\"output.txt\", \"w\") as file:\n",
    "        file.write(reversed_text)\n",
    "    print('Reversed text has been written to \"output.txt\".')\n",
    "write_reversed_string(\"Machine Learning\")\n"
   ]
  },
  {
   "cell_type": "markdown",
   "id": "76362090",
   "metadata": {},
   "source": [
    "# Exercise 41:\n",
    "Write a Python script that reads a file and prints all the lines that contain the word `\"Python\"`.\n",
    "\n",
    "```python\n",
    "# Exercise 41\n",
    "```"
   ]
  },
  {
   "cell_type": "code",
   "execution_count": 161,
   "id": "137a0935",
   "metadata": {},
   "outputs": [
    {
     "name": "stdout",
     "output_type": "stream",
     "text": [
      "Python est un langage de programmation puissant et facile à apprendre. Il dispose de structures de données de haut niveau et permet une approche simple mais efficace de la programmation orientée objet. Parce que sa syntaxe est élégante, que son typage est dynamique et qu'il est interprété, Python est un langage idéal pour l'écriture de scripts et le développement rapide d'applications dans de nombreux domaines et sur la plupart des plateformes.\n"
     ]
    }
   ],
   "source": [
    "filename = \"input.txt\"\n",
    "\n",
    "try:\n",
    "    with open(filename, \"r\",encoding=\"utf-8\") as file:\n",
    "        for line in file:\n",
    "            if \"Python\" in line:\n",
    "                print(line.strip())\n",
    "except FileNotFoundError:\n",
    "    print(f\"Error: The file '{filename}' does not exist.\")\n"
   ]
  },
  {
   "cell_type": "markdown",
   "id": "6a18fc00",
   "metadata": {},
   "source": [
    "# Exercise 42:\n",
    "Write a Python script that opens a file and removes all numeric digits from the file's content.\n",
    "\n",
    "```python\n",
    "# Exercise 42\n",
    "```"
   ]
  },
  {
   "cell_type": "code",
   "execution_count": 162,
   "id": "087ece95",
   "metadata": {},
   "outputs": [
    {
     "name": "stdout",
     "output_type": "stream",
     "text": [
      "All numeric digits have been removed from 'data.txt'.\n"
     ]
    }
   ],
   "source": [
    "def remove_digits_from_file(filename):\n",
    "    try:\n",
    "        with open(filename, \"r\") as file:\n",
    "            content = file.read()\n",
    "        cleaned_content = content.translate(str.maketrans(\"\", \"\", \"0123456789\"))\n",
    "\n",
    "        with open(filename, \"w\") as file:\n",
    "            file.write(cleaned_content)\n",
    "\n",
    "        print(f\"All numeric digits have been removed from '{filename}'.\")\n",
    "    \n",
    "    except FileNotFoundError:\n",
    "        print(f\"Error: The file '{filename}' does not exist.\")\n",
    "remove_digits_from_file(\"data.txt\")\n"
   ]
  },
  {
   "cell_type": "markdown",
   "id": "c55050be",
   "metadata": {},
   "source": [
    "# Exercise 43:\n",
    "Write a Python script to find the most frequent word in a text file `\"book.txt\"`.\n",
    "\n",
    "```python\n",
    "# Exercise 43\n",
    "```"
   ]
  },
  {
   "cell_type": "code",
   "execution_count": 163,
   "id": "51f8415c",
   "metadata": {},
   "outputs": [
    {
     "name": "stdout",
     "output_type": "stream",
     "text": [
      "The most frequent word is 'python' (appears 1 times).\n"
     ]
    }
   ],
   "source": [
    "def most_frequent_word(filename):\n",
    "    try:\n",
    "        with open(filename, \"r\") as file:\n",
    "            text = file.read().lower()  \n",
    "        text = text.translate(str.maketrans(\"\", \"\", string.punctuation))\n",
    "        words = text.split()\n",
    "        word_counts = Counter(words)\n",
    "\n",
    "        if word_counts:\n",
    "            most_common_word, frequency = word_counts.most_common(1)[0]\n",
    "            print(f\"The most frequent word is '{most_common_word}' (appears {frequency} times).\")\n",
    "        else:\n",
    "            print(\"The file is empty or contains no valid words.\")\n",
    "    \n",
    "    except FileNotFoundError:\n",
    "        print(f\"The file '{filename}' does not exist.\")\n",
    "most_frequent_word(\"example.txt\")\n"
   ]
  },
  {
   "cell_type": "markdown",
   "id": "8896e899",
   "metadata": {},
   "source": [
    "# Exercise 44:\n",
    "Write a Python script that reads a file and prints all the lines that contain exactly 5 words.\n",
    "\n",
    "```python\n",
    "# Exercise 44\n",
    "```"
   ]
  },
  {
   "cell_type": "code",
   "execution_count": 164,
   "id": "b4fb36f7",
   "metadata": {},
   "outputs": [
    {
     "name": "stdout",
     "output_type": "stream",
     "text": [
      "['And', 'so', 'are', 'you']\n"
     ]
    }
   ],
   "source": [
    "with open(\"data.txt\", \"r\") as file:\n",
    "    for line in file:\n",
    "        words = line.strip().split()\n",
    "        if len(words) == 5:\n",
    "            print(line.strip())\n",
    "print(words)"
   ]
  },
  {
   "cell_type": "markdown",
   "id": "70331b91",
   "metadata": {},
   "source": [
    "# Exercise 45:\n",
    "Write a Python script to read a file and print the first and last line of the file.\n",
    "\n",
    "```python\n",
    "# Exercise 45\n",
    "```"
   ]
  },
  {
   "cell_type": "code",
   "execution_count": 165,
   "id": "5922e43a",
   "metadata": {},
   "outputs": [
    {
     "name": "stdout",
     "output_type": "stream",
     "text": [
      "First_line: Hello world\n",
      "Last_line: And so ate you\n"
     ]
    }
   ],
   "source": [
    "text=\" Hello world \\nHow are you?\\nAnd so ate you\"\n",
    "lines=text.split(\"\\n\")\n",
    "first_line=lines[0].strip()\n",
    "last_line=lines[-1].strip()\n",
    "print(\"First_line:\",first_line)\n",
    "print(\"Last_line:\",last_line) "
   ]
  },
  {
   "cell_type": "markdown",
   "id": "81cfa44a",
   "metadata": {},
   "source": [
    "# Exercise 46:\n",
    "Write a Python script that checks if a file `\"students.txt\"` is writable.\n",
    "\n",
    "```python\n",
    "# Exercise 46\n",
    "```"
   ]
  },
  {
   "cell_type": "code",
   "execution_count": 166,
   "id": "ca6af067",
   "metadata": {},
   "outputs": [
    {
     "name": "stdout",
     "output_type": "stream",
     "text": [
      "The file 'students.txt' is writable or can be created.\n"
     ]
    }
   ],
   "source": [
    "filename=\"students.txt\"\n",
    "try:\n",
    "    with open(filename,'a'):\n",
    "        print(f\"The file '{filename}' is writable or can be created.\")\n",
    "except IOEError:\n",
    "              print(f\"The file '{filename}' is not writable or cannot be created.\")\n",
    "        \n",
    "              "
   ]
  },
  {
   "cell_type": "markdown",
   "id": "4f4de5f9",
   "metadata": {},
   "source": [
    "# Exercise 47:\n",
    "Create a Python function that opens a file and returns the number of unique words in the file.\n",
    "\n",
    "```python\n",
    "# Exercise 47\n",
    "```"
   ]
  },
  {
   "cell_type": "code",
   "execution_count": 167,
   "id": "c30cc7b5",
   "metadata": {},
   "outputs": [
    {
     "name": "stdout",
     "output_type": "stream",
     "text": [
      "Le fichier contient 23 mots uniques.\n"
     ]
    }
   ],
   "source": [
    "import re\n",
    "def count_unique_words(filename):\n",
    "    unique_words = set()\n",
    "    with open(filename, 'r') as file:\n",
    "        for line in file:\n",
    "            cleaned_line = re.sub(r'[^\\w\\s]', '', line).lower()\n",
    "            words = cleaned_line.split()\n",
    "            unique_words.update(words)\n",
    "    return len(unique_words)\n",
    "nb = count_unique_words(\"exa.txt\")\n",
    "print(f\"Le fichier contient {nb} mots uniques.\")\n"
   ]
  },
  {
   "cell_type": "markdown",
   "id": "8164e58a",
   "metadata": {},
   "source": [
    "# Exercise 48:\n",
    "Write a Python script that reads a file and prints all lines in reverse order.\n",
    "\n",
    "```python\n",
    "# Exercise 48\n",
    "```"
   ]
  },
  {
   "cell_type": "code",
   "execution_count": 168,
   "id": "daf0820f",
   "metadata": {
    "scrolled": true
   },
   "outputs": [
    {
     "name": "stdout",
     "output_type": "stream",
     "text": [
      "Python est facile à apprendre, mais puissant.\n",
      "Il est très populaire pour le développement web, l'analyse de données et l'intelligence artificielle.\n",
      "Python est un langage de programmation.\n"
     ]
    }
   ],
   "source": [
    "def print_file_in_reverse(filename):\n",
    "    with open(filename, \"r\",encoding=\"utf-8\") as file:\n",
    "        lines=file.readlines()\n",
    "    for line in reversed(lines):\n",
    "            print(line.rstrip()) #rstrip() removes trailing newline characters\n",
    "print_file_in_reverse(\"exa.txt\")"
   ]
  },
  {
   "cell_type": "markdown",
   "id": "c20a001f",
   "metadata": {},
   "source": [
    "# Exercise 49:\n",
    "Write a Python function that reads a file and returns the most common letter in the text.\n",
    "\n",
    "```python\n",
    "# Exercise 49\n",
    "```"
   ]
  },
  {
   "cell_type": "code",
   "execution_count": 169,
   "id": "464d9cba",
   "metadata": {},
   "outputs": [
    {
     "name": "stdout",
     "output_type": "stream",
     "text": [
      "The most common letter is: e\n"
     ]
    }
   ],
   "source": [
    "from collections import Counter\n",
    "import string\n",
    "def most_common_letter(filename):\n",
    "    with open (filename,\"r\") as file:\n",
    "        text=file.read().lower()\n",
    "    letters=[ch for ch in text if ch in string.ascii_lowercase]\n",
    "    counts=Counter(letters)\n",
    "    most_common=counts.most_common(1)\n",
    "    return most_common[0][0] if most_common else none \n",
    "\n",
    "letter = most_common_letter(\"exa.txt\")\n",
    "print(f\"The most common letter is: {letter}\")\n"
   ]
  },
  {
   "cell_type": "markdown",
   "id": "bd4206c9",
   "metadata": {},
   "source": [
    " ### Exercise 50:\n",
    "Write a Python script that reads a file and replaces every occurrence of `\"Python\"` with `\"Java\"`.\n",
    "\n",
    "```python\n",
    "# Exercise 50\n",
    "```"
   ]
  },
  {
   "cell_type": "code",
   "execution_count": 170,
   "id": "dcf6ca38",
   "metadata": {
    "id": "dcf6ca38"
   },
   "outputs": [
    {
     "name": "stdout",
     "output_type": "stream",
     "text": [
      "All occurrences of 'Python' have been replaced with 'Java'.\n"
     ]
    }
   ],
   "source": [
    "def replace_python_with_java(filename):\n",
    "    with open(filename, 'r') as file:\n",
    "        text = file.read()\n",
    "    updated_text = text.replace(\"Python\", \"Java\")\n",
    "    with open(filename, 'w', encoding='utf-8') as file:\n",
    "        file.write(updated_text)\n",
    "\n",
    "replace_python_with_java(\"example.txt\")\n",
    "print(\"All occurrences of 'Python' have been replaced with 'Java'.\")\n"
   ]
  },
  {
   "cell_type": "code",
   "execution_count": null,
   "id": "07ef73bb",
   "metadata": {},
   "outputs": [],
   "source": []
  }
 ],
 "metadata": {
  "colab": {
   "provenance": []
  },
  "kernelspec": {
   "display_name": "Python 3 (ipykernel)",
   "language": "python",
   "name": "python3"
  },
  "language_info": {
   "codemirror_mode": {
    "name": "ipython",
    "version": 3
   },
   "file_extension": ".py",
   "mimetype": "text/x-python",
   "name": "python",
   "nbconvert_exporter": "python",
   "pygments_lexer": "ipython3",
   "version": "3.9.12"
  }
 },
 "nbformat": 4,
 "nbformat_minor": 5
}
