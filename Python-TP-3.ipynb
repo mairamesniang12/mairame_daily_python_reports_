{
 "cells": [
  {
   "cell_type": "markdown",
   "id": "d68c1dee",
   "metadata": {
    "id": "d68c1dee"
   },
   "source": [
    "# Practical_3: Iterable objects or Containers"
   ]
  },
  {
   "cell_type": "markdown",
   "id": "bfe6b5ed",
   "metadata": {},
   "source": [
    "### Exercise 1:\n",
    "Create a list of integers from 1 to 10.\n",
    "\n",
    "```python\n",
    "# Exercise 1\n",
    "```"
   ]
  },
  {
   "cell_type": "code",
   "execution_count": 1,
   "id": "6d65ad32",
   "metadata": {},
   "outputs": [
    {
     "name": "stdout",
     "output_type": "stream",
     "text": [
      "[1, 2, 3, 4, 5, 6, 7, 8, 9, 10]\n"
     ]
    }
   ],
   "source": [
    "my_list=[1,2,3,4,5,6,7,8,9,10]\n",
    "print(my_list)"
   ]
  },
  {
   "cell_type": "markdown",
   "id": "5cf7248f",
   "metadata": {
    "id": "bea983a3"
   },
   "source": [
    "---\n",
    "\n",
    "### Exercise 2:\n",
    "Create a tuple containing the elements `\"apple\"`, `\"banana\"`, and `\"cherry\"`.\n",
    "\n",
    "```python\n",
    "# Exercise 2\n",
    "```"
   ]
  },
  {
   "cell_type": "code",
   "execution_count": 2,
   "id": "6b8eec0b",
   "metadata": {},
   "outputs": [
    {
     "name": "stdout",
     "output_type": "stream",
     "text": [
      "('apple', 'banana', 'cherry')\n"
     ]
    }
   ],
   "source": [
    "My_tuple=(\"apple\",\"banana\",\"cherry\")\n",
    "print(My_tuple)"
   ]
  },
  {
   "cell_type": "markdown",
   "id": "7d3f27ce",
   "metadata": {
    "id": "bea983a3"
   },
   "source": [
    "---\n",
    "\n",
    "### Exercise 3:\n",
    "Convert the list `numbers = [10, 20, 30, 40]` into a tuple.\n",
    "\n",
    "```python\n",
    "# Exercise 3\n",
    "```\n",
    "\n",
    "---"
   ]
  },
  {
   "cell_type": "code",
   "execution_count": 3,
   "id": "644bc6e0",
   "metadata": {},
   "outputs": [
    {
     "data": {
      "text/plain": [
       "(10, 20, 30, 40)"
      ]
     },
     "execution_count": 3,
     "metadata": {},
     "output_type": "execute_result"
    }
   ],
   "source": [
    "numbers=[10,20,30,40]\n",
    "My_tuple=tuple(numbers)\n",
    "My_tuple"
   ]
  },
  {
   "cell_type": "markdown",
   "id": "884d5ee5",
   "metadata": {
    "id": "bea983a3"
   },
   "source": [
    "### Exercise 4:\n",
    "Create a set containing the elements `1, 2, 3, 4, 5`.\n",
    "\n",
    "```python\n",
    "# Exercise 4\n",
    "```\n",
    "\n",
    "---"
   ]
  },
  {
   "cell_type": "code",
   "execution_count": 4,
   "id": "e947af12",
   "metadata": {},
   "outputs": [
    {
     "name": "stdout",
     "output_type": "stream",
     "text": [
      "{1, 2, 3, 4, 5}\n"
     ]
    }
   ],
   "source": [
    "v = [1,2,3,4,5]\n",
    "V = set(v)\n",
    "print(V)"
   ]
  },
  {
   "cell_type": "markdown",
   "id": "98c6606e",
   "metadata": {
    "id": "bea983a3"
   },
   "source": [
    "### Exercise 5:\n",
    "Create a dictionary `student` with the keys `\"name\"`, `\"age\"`, and `\"grade\"` and corresponding values `\"Alice\"`, `20`, and `\"A\"`.\n",
    "\n",
    "```python\n",
    "# Exercise 5\n",
    "```\n",
    "\n",
    "---"
   ]
  },
  {
   "cell_type": "code",
   "execution_count": 5,
   "id": "b484be06",
   "metadata": {},
   "outputs": [
    {
     "name": "stdout",
     "output_type": "stream",
     "text": [
      "{'name': 'Alice', 'age': 20, 'grade': 'A'}\n"
     ]
    }
   ],
   "source": [
    "student={\"name\":\"Alice\",\"age\":20,\"grade\":\"A\"}\n",
    "print(student)"
   ]
  },
  {
   "cell_type": "markdown",
   "id": "d60b5d37",
   "metadata": {
    "id": "bea983a3"
   },
   "source": [
    "### Exercise 6:\n",
    "Access the second element of the list `[10, 20, 30, 40, 50]` using indexing.\n",
    "\n",
    "```python\n",
    "# Exercise 6\n",
    "```\n",
    "\n",
    "---"
   ]
  },
  {
   "cell_type": "code",
   "execution_count": 2,
   "id": "b39885fc",
   "metadata": {},
   "outputs": [
    {
     "data": {
      "text/plain": [
       "20"
      ]
     },
     "execution_count": 2,
     "metadata": {},
     "output_type": "execute_result"
    }
   ],
   "source": [
    "list_a=[10,20,30,40]\n",
    "list_a[1]"
   ]
  },
  {
   "cell_type": "markdown",
   "id": "1707df95",
   "metadata": {
    "id": "bea983a3"
   },
   "source": [
    "### Exercise 7:\n",
    "Change the third element of the list `fruits = [\"apple\", \"banana\", \"cherry\", \"orange\"]` to `\"mango\"`.\n",
    "\n",
    "```python\n",
    "# Exercise 7\n",
    "```\n",
    "\n",
    "---"
   ]
  },
  {
   "cell_type": "code",
   "execution_count": 7,
   "id": "14d33db3",
   "metadata": {},
   "outputs": [
    {
     "data": {
      "text/plain": [
       "['apple', 'banana', 'mango', 'orange']"
      ]
     },
     "execution_count": 7,
     "metadata": {},
     "output_type": "execute_result"
    }
   ],
   "source": [
    "fruits=[\"apple\",\"banana\",\"cherry\",\"orange\"]\n",
    "fruits[2]=\"mango\"\n",
    "fruits"
   ]
  },
  {
   "cell_type": "markdown",
   "id": "466f0499",
   "metadata": {
    "id": "bea983a3"
   },
   "source": [
    "### Exercise 8:\n",
    "Add the number `6` to the set `numbers = {1, 2, 3, 4, 5}`.\n",
    "\n",
    "```python\n",
    "# Exercise 8\n",
    "```\n",
    "\n",
    "---"
   ]
  },
  {
   "cell_type": "code",
   "execution_count": 9,
   "id": "3da29c86",
   "metadata": {},
   "outputs": [
    {
     "name": "stdout",
     "output_type": "stream",
     "text": [
      "{1, 2, 3, 4, 5, 6}\n"
     ]
    }
   ],
   "source": [
    "numbers=[1,2,3,4,5]\n",
    "numbers.append(6)\n",
    "print(set(numbers))"
   ]
  },
  {
   "cell_type": "markdown",
   "id": "3560f708",
   "metadata": {
    "id": "bea983a3"
   },
   "source": [
    "### Exercise 9:\n",
    "Remove the key `\"age\"` from the dictionary `person = {\"name\": \"John\", \"age\": 25, \"city\": \"New York\"}`.\n",
    "\n",
    "```python\n",
    "# Exercise 9\n",
    "```\n",
    "\n",
    "---"
   ]
  },
  {
   "cell_type": "code",
   "execution_count": 9,
   "id": "dc8546a4",
   "metadata": {},
   "outputs": [
    {
     "name": "stdout",
     "output_type": "stream",
     "text": [
      "{'name': 'John', 'city': 'New York'}\n"
     ]
    }
   ],
   "source": [
    "person = {\"name\": \"John\", \"age\": 25, \"city\": \"New York\"}\n",
    "del person[\"age\"]\n",
    "print(person)"
   ]
  },
  {
   "cell_type": "markdown",
   "id": "77df91bd",
   "metadata": {
    "id": "bea983a3"
   },
   "source": [
    "### Exercise 10:\n",
    "Create a range object starting from 0 to 9.\n",
    "\n",
    "```python\n",
    "# Exercise 10\n",
    "```\n",
    "\n",
    "---"
   ]
  },
  {
   "cell_type": "code",
   "execution_count": 10,
   "id": "4f2e2199",
   "metadata": {},
   "outputs": [
    {
     "name": "stdout",
     "output_type": "stream",
     "text": [
      "0\n",
      "1\n",
      "2\n",
      "3\n",
      "4\n",
      "5\n",
      "6\n",
      "7\n",
      "8\n",
      "9\n"
     ]
    }
   ],
   "source": [
    "for i in range(0,10):\n",
    "    print(i)"
   ]
  },
  {
   "cell_type": "markdown",
   "id": "02889cf1",
   "metadata": {
    "id": "bea983a3"
   },
   "source": [
    "### Exercise 11:\n",
    "Use a list comprehension to create a list of squares of numbers from 1 to 10.\n",
    "\n",
    "```python\n",
    "# Exercise 11\n",
    "```\n",
    "\n",
    "---"
   ]
  },
  {
   "cell_type": "code",
   "execution_count": 11,
   "id": "4ace5c82",
   "metadata": {},
   "outputs": [
    {
     "data": {
      "text/plain": [
       "[1, 4, 9, 16, 25, 36, 49, 64, 81, 100]"
      ]
     },
     "execution_count": 11,
     "metadata": {},
     "output_type": "execute_result"
    }
   ],
   "source": [
    "squares=[x**2 for x in range(1,11)]\n",
    "squares"
   ]
  },
  {
   "cell_type": "markdown",
   "id": "8ca01d3e",
   "metadata": {
    "id": "bea983a3"
   },
   "source": [
    "### Exercise 12:\n",
    "Create a tuple of even numbers between 2 and 10 using a tuple comprehension.\n",
    "\n",
    "```python\n",
    "# Exercise 12\n",
    "```\n",
    "\n",
    "---"
   ]
  },
  {
   "cell_type": "code",
   "execution_count": 144,
   "id": "99d13285",
   "metadata": {},
   "outputs": [
    {
     "name": "stdout",
     "output_type": "stream",
     "text": [
      "Tuple of even numbers:(2, 4, 6, 8, 10)\n"
     ]
    }
   ],
   "source": [
    "even_numbers_tuple=tuple(num for num in range (2,11) if num%2==0)\n",
    "print(f\"Tuple of even numbers:{even_numbers_tuple}\")"
   ]
  },
  {
   "cell_type": "markdown",
   "id": "165897ff",
   "metadata": {
    "id": "bea983a3"
   },
   "source": [
    "### Exercise 13:\n",
    "Use a for loop to iterate through the list `fruits = [\"apple\", \"banana\", \"cherry\"]` and print each element.\n",
    "\n",
    "```python\n",
    "# Exercise 13\n",
    "```\n",
    "\n",
    "---"
   ]
  },
  {
   "cell_type": "code",
   "execution_count": 145,
   "id": "9296f708",
   "metadata": {},
   "outputs": [
    {
     "name": "stdout",
     "output_type": "stream",
     "text": [
      "\n",
      "Iterating through fruits :\n",
      "apple\n",
      "banana\n",
      "cherry\n"
     ]
    }
   ],
   "source": [
    "fruits=[\"apple\", \"banana\", \"cherry\"]\n",
    "print(\"\\nIterating through fruits :\")\n",
    "for fruit in fruits:\n",
    "    print(fruit)"
   ]
  },
  {
   "cell_type": "markdown",
   "id": "f67be1dc",
   "metadata": {
    "id": "bea983a3"
   },
   "source": [
    "### Exercise 14:\n",
    "Check if the value `3` exists in the set `numbers = {1, 2, 3, 4, 5}`.\n",
    "\n",
    "```python\n",
    "# Exercise 14\n",
    "```\n",
    "\n",
    "---"
   ]
  },
  {
   "cell_type": "code",
   "execution_count": 146,
   "id": "379c0986",
   "metadata": {},
   "outputs": [
    {
     "name": "stdout",
     "output_type": "stream",
     "text": [
      "\n",
      "The value 3 exist in the set {1, 2, 3, 4, 5}\n"
     ]
    }
   ],
   "source": [
    "numbers = {1, 2, 3, 4, 5}\n",
    "if 3 in numbers:\n",
    "    print(f\"\\nThe value 3 exist in the set {numbers}\")\n",
    "else:\n",
    "    print(f\"\\nThe value 3 does not exist in the set {numbers}\")"
   ]
  },
  {
   "cell_type": "markdown",
   "id": "68e2c2a9",
   "metadata": {
    "id": "bea983a3"
   },
   "source": [
    "### Exercise 15:\n",
    "Use the `len()` function to find the length of the tuple `numbers = (10, 20, 30)`.\n",
    "\n",
    "```python\n",
    "# Exercise 15\n",
    "```\n",
    "\n",
    "---"
   ]
  },
  {
   "cell_type": "code",
   "execution_count": 147,
   "id": "169526db",
   "metadata": {},
   "outputs": [
    {
     "data": {
      "text/plain": [
       "3"
      ]
     },
     "execution_count": 147,
     "metadata": {},
     "output_type": "execute_result"
    }
   ],
   "source": [
    "numbers=(10,20,30)\n",
    "len(numbers)"
   ]
  },
  {
   "cell_type": "markdown",
   "id": "2d38ee45",
   "metadata": {
    "id": "bea983a3"
   },
   "source": [
    "### Exercise 16:\n",
    "Add the value `100` at the end of the list `scores = [80, 85, 90, 95]`.\n",
    "\n",
    "```python\n",
    "# Exercise 16\n",
    "```\n",
    "\n",
    "---"
   ]
  },
  {
   "cell_type": "code",
   "execution_count": 148,
   "id": "1cf327c7",
   "metadata": {},
   "outputs": [
    {
     "name": "stdout",
     "output_type": "stream",
     "text": [
      "[80, 85, 90, 95, 100]\n"
     ]
    }
   ],
   "source": [
    "scores=[80, 85, 90, 95]\n",
    "scores.append(100)\n",
    "print(scores)"
   ]
  },
  {
   "cell_type": "markdown",
   "id": "4ce74597",
   "metadata": {
    "id": "bea983a3"
   },
   "source": [
    "### Exercise 17:\n",
    "Write a function that takes a list as input and returns the sum of all elements in the list.\n",
    "\n",
    "```python\n",
    "# Exercise 17\n",
    "```\n",
    "\n",
    "---"
   ]
  },
  {
   "cell_type": "code",
   "execution_count": 149,
   "id": "797fe7d6",
   "metadata": {},
   "outputs": [
    {
     "name": "stdout",
     "output_type": "stream",
     "text": [
      "The sum of elements in [1, 2, 3, 4, 5] is: 15\n"
     ]
    }
   ],
   "source": [
    "def sum_list_elements(input_list):\n",
    "    return sum(input_list)\n",
    "my_list = [1, 2, 3, 4, 5]\n",
    "total_sum = sum_list_elements(my_list)\n",
    "print(f\"The sum of elements in {my_list} is: {total_sum}\")"
   ]
  },
  {
   "cell_type": "markdown",
   "id": "28043dec",
   "metadata": {
    "id": "bea983a3"
   },
   "source": [
    "### Exercise 18:\n",
    "Create a set containing the unique elements of the list `numbers = [1, 2, 2, 3, 4, 4, 5]`.\n",
    "\n",
    "```python\n",
    "# Exercise 18\n",
    "```\n",
    "\n",
    "---"
   ]
  },
  {
   "cell_type": "code",
   "execution_count": 150,
   "id": "096315da",
   "metadata": {},
   "outputs": [
    {
     "name": "stdout",
     "output_type": "stream",
     "text": [
      "{1, 2, 3, 4, 5}\n"
     ]
    }
   ],
   "source": [
    "numbers=[1,2,2,3,4,4,5]\n",
    "V=set(numbers)\n",
    "print(V)"
   ]
  },
  {
   "cell_type": "markdown",
   "id": "abf9cde7",
   "metadata": {
    "id": "bea983a3"
   },
   "source": [
    "### Exercise 19:\n",
    "Convert the string `\"hello\"` into a list of characters.\n",
    "\n",
    "```python\n",
    "# Exercise 19\n",
    "```\n",
    "\n",
    "---"
   ]
  },
  {
   "cell_type": "code",
   "execution_count": 151,
   "id": "0c66750d",
   "metadata": {},
   "outputs": [
    {
     "data": {
      "text/plain": [
       "'hello'"
      ]
     },
     "execution_count": 151,
     "metadata": {},
     "output_type": "execute_result"
    }
   ],
   "source": [
    "ch=\"hello\"\n",
    "ch"
   ]
  },
  {
   "cell_type": "markdown",
   "id": "1c5f0d5f",
   "metadata": {
    "id": "bea983a3"
   },
   "source": [
    "### Exercise 20:\n",
    "Write a Python function that reverses a tuple `(1, 2, 3, 4)`.\n",
    "\n",
    "```python\n",
    "# Exercise 20\n",
    "```\n",
    "\n",
    "---"
   ]
  },
  {
   "cell_type": "code",
   "execution_count": 152,
   "id": "63b0e9f9",
   "metadata": {},
   "outputs": [
    {
     "name": "stdout",
     "output_type": "stream",
     "text": [
      "(4, 3, 2, 1)\n"
     ]
    }
   ],
   "source": [
    "def reverse_tuple(input_tuple):\n",
    "    return input_tuple[::-1]\n",
    "my_tuple = (1, 2, 3, 4)\n",
    "reversed_my_tuple = reverse_tuple(my_tuple)\n",
    "print(reversed_my_tuple)"
   ]
  },
  {
   "cell_type": "markdown",
   "id": "e883db09",
   "metadata": {
    "id": "bea983a3"
   },
   "source": [
    "### Exercise 21:\n",
    "Merge two dictionaries `dict1 = {\"a\": 1, \"b\": 2}` and `dict2 = {\"c\": 3, \"d\": 4}` into a single dictionary.\n",
    "\n",
    "```python\n",
    "# Exercise 21\n",
    "```\n",
    "\n",
    "---"
   ]
  },
  {
   "cell_type": "code",
   "execution_count": 153,
   "id": "7103f24d",
   "metadata": {},
   "outputs": [
    {
     "name": "stdout",
     "output_type": "stream",
     "text": [
      "{'a': 1, 'b': 2, 'c': 3, 'd': 4}\n"
     ]
    }
   ],
   "source": [
    "dict1 = {\"a\": 1, \"b\": 2}\n",
    "dict2 = {\"c\": 3, \"d\": 4}\n",
    "dict1.update(dict2)\n",
    "print(dict1)"
   ]
  },
  {
   "cell_type": "markdown",
   "id": "f1fbf80a",
   "metadata": {},
   "source": [
    "### Exercise 22:\n",
    "Create a dictionary where keys are numbers from 1 to 5, and values are their squares.\n",
    "\n",
    "```python\n",
    "# Exercise 22\n",
    "```"
   ]
  },
  {
   "cell_type": "code",
   "execution_count": 154,
   "id": "65305f6b",
   "metadata": {},
   "outputs": [
    {
     "name": "stdout",
     "output_type": "stream",
     "text": [
      "{1: 1, 2: 4, 3: 9, 4: 16, 5: 25}\n"
     ]
    }
   ],
   "source": [
    "squares_dict = {i: i**2 for i in range(1, 6)}\n",
    "print(squares_dict)"
   ]
  },
  {
   "cell_type": "markdown",
   "id": "95962461",
   "metadata": {
    "id": "bea983a3"
   },
   "source": [
    "### Exercise 23:\n",
    "Write a Python program to iterate through a dictionary and print each key-value pair.\n",
    "\n",
    "```python\n",
    "# Exercise 23\n",
    "```\n",
    "\n",
    "---"
   ]
  },
  {
   "cell_type": "code",
   "execution_count": 155,
   "id": "c7c6e0c1",
   "metadata": {},
   "outputs": [
    {
     "name": "stdout",
     "output_type": "stream",
     "text": [
      "Key: name, Value: Alice\n",
      "Key: age, Value: 30\n",
      "Key: city, Value: New York\n"
     ]
    }
   ],
   "source": [
    "my_dictionary = {\n",
    "    \"name\": \"Alice\",\n",
    "    \"age\": 30,\n",
    "    \"city\": \"New York\"\n",
    "}\n",
    "for key, value in my_dictionary.items():\n",
    "    print(f\"Key: {key}, Value: {value}\")"
   ]
  },
  {
   "cell_type": "markdown",
   "id": "35a29fd1",
   "metadata": {
    "id": "bea983a3"
   },
   "source": [
    "### Exercise 24:\n",
    "Create a list of the first 5 letters of the alphabet using the `chr()` function.\n",
    "\n",
    "```python\n",
    "# Exercise 24\n",
    "```\n",
    "\n",
    "---"
   ]
  },
  {
   "cell_type": "code",
   "execution_count": 156,
   "id": "d934deba",
   "metadata": {},
   "outputs": [
    {
     "name": "stdout",
     "output_type": "stream",
     "text": [
      "['A', 'B', 'C', 'D', 'E']\n"
     ]
    }
   ],
   "source": [
    "letters = [chr(i) for i in range(ord('A'), ord('A') + 5)]\n",
    "print(letters)\n"
   ]
  },
  {
   "cell_type": "markdown",
   "id": "29924e6f",
   "metadata": {
    "id": "bea983a3"
   },
   "source": [
    "### Exercise 25:\n",
    "Use the `zip()` function to combine two lists `[1, 2, 3]` and `[\"a\", \"b\", \"c\"]` into a list of tuples.\n",
    "\n",
    "```python\n",
    "# Exercise 25\n",
    "```\n",
    "\n",
    "---"
   ]
  },
  {
   "cell_type": "code",
   "execution_count": 157,
   "id": "afcc75d6",
   "metadata": {},
   "outputs": [
    {
     "name": "stdout",
     "output_type": "stream",
     "text": [
      "[(1, 'a'), (2, 'b'), (3, 'c')]\n"
     ]
    }
   ],
   "source": [
    "liste_1=[1, 2, 3]\n",
    "liste_2=[\"a\", \"b\", \"c\"]\n",
    "combined_list = list(zip(liste_1, liste_2))\n",
    "print(combined_list)"
   ]
  },
  {
   "cell_type": "markdown",
   "id": "20d6017c",
   "metadata": {
    "id": "bea983a3"
   },
   "source": [
    "### Exercise 26:\n",
    "Find the index of the value `50` in the list `[10, 20, 30, 40, 50]`.\n",
    "\n",
    "```python\n",
    "# Exercise 26\n",
    "```\n",
    "\n",
    "---"
   ]
  },
  {
   "cell_type": "code",
   "execution_count": 158,
   "id": "ef5a5c19",
   "metadata": {},
   "outputs": [
    {
     "name": "stdout",
     "output_type": "stream",
     "text": [
      "L'index de la valeur 50 est : 4\n"
     ]
    }
   ],
   "source": [
    "my_list = [10, 20, 30, 40, 50]\n",
    "index = my_list.index(50)\n",
    "print(f\"L'index de la valeur 50 est : {index}\")"
   ]
  },
  {
   "cell_type": "markdown",
   "id": "3704aca6",
   "metadata": {
    "id": "bea983a3"
   },
   "source": [
    "### Exercise 27:\n",
    "Sort the list `names = [\"Alice\", \"Bob\", \"Charlie\", \"David\"]` in alphabetical order.\n",
    "\n",
    "```python\n",
    "# Exercise 27\n",
    "```\n",
    "\n",
    "---"
   ]
  },
  {
   "cell_type": "code",
   "execution_count": 159,
   "id": "6a17be3c",
   "metadata": {},
   "outputs": [
    {
     "name": "stdout",
     "output_type": "stream",
     "text": [
      "['Alice', 'Bob', 'Charlie', 'David']\n"
     ]
    }
   ],
   "source": [
    "names = [\"Alice\", \"Bob\", \"Charlie\", \"David\"]\n",
    "names.sort()\n",
    "print(names)"
   ]
  },
  {
   "cell_type": "markdown",
   "id": "a18ae1ee",
   "metadata": {
    "id": "bea983a3"
   },
   "source": [
    "### Exercise 28:\n",
    "Write a Python function that takes a list of integers as input and returns the largest number.\n",
    "\n",
    "```python\n",
    "# Exercise 28\n",
    "```\n",
    "\n",
    "---"
   ]
  },
  {
   "cell_type": "code",
   "execution_count": 2,
   "id": "ad693ccc",
   "metadata": {},
   "outputs": [
    {
     "name": "stdout",
     "output_type": "stream",
     "text": [
      "The largest number in the list is: 9\n"
     ]
    }
   ],
   "source": [
    "def find_largest_number(numbers):\n",
    "    return max(numbers)\n",
    "my_list = [3, 1, 4, 1, 5, 9, 2, 6]\n",
    "largest = find_largest_number(my_list)\n",
    "print(f\"The largest number in the list is: {largest}\")"
   ]
  },
  {
   "cell_type": "markdown",
   "id": "c1873416",
   "metadata": {
    "id": "bea983a3"
   },
   "source": [
    "### Exercise 29:\n",
    "Use the `count()` method to count how many times `\"apple\"` appears in the list `fruits = [\"apple\", \"banana\", \"apple\", \"orange\"]`.\n",
    "\n",
    "```python\n",
    "# Exercise 29\n",
    "```\n",
    "\n",
    "---"
   ]
  },
  {
   "cell_type": "code",
   "execution_count": 44,
   "id": "c11ba0ed",
   "metadata": {},
   "outputs": [
    {
     "name": "stdout",
     "output_type": "stream",
     "text": [
      "2\n"
     ]
    }
   ],
   "source": [
    "fruits = [\"apple\", \"banana\", \"apple\", \"orange\"]\n",
    "count = fruits.count(\"apple\")\n",
    "print(count)"
   ]
  },
  {
   "cell_type": "markdown",
   "id": "984c1d71",
   "metadata": {
    "id": "bea983a3"
   },
   "source": [
    "\n",
    "### Exercise 30:\n",
    "Create a dictionary `person` where keys are `\"name\"`, `\"age\"`, and `\"city\"`, and values are `\"Alice\"`, `25`, and `\"New York\"` respectively. Then access the value of the `\"city\"` key.\n",
    "\n",
    "```python\n",
    "# Exercise 30\n",
    "```\n",
    "\n",
    "---"
   ]
  },
  {
   "cell_type": "code",
   "execution_count": 3,
   "id": "f903b984",
   "metadata": {},
   "outputs": [
    {
     "data": {
      "text/plain": [
       "'New York'"
      ]
     },
     "execution_count": 3,
     "metadata": {},
     "output_type": "execute_result"
    }
   ],
   "source": [
    "person={\"name\":\"Alice\",\"age\":25,\"city\":\"New York\"}\n",
    "person[\"city\"]"
   ]
  },
  {
   "cell_type": "markdown",
   "id": "f914b309",
   "metadata": {
    "id": "bea983a3"
   },
   "source": [
    "### Exercise 31:\n",
    "Write a Python function that takes a list as input and returns a new list with all duplicates removed.\n",
    "\n",
    "```python\n",
    "# Exercise 31\n",
    "```\n",
    "\n",
    "---"
   ]
  },
  {
   "cell_type": "code",
   "execution_count": 7,
   "id": "0d5a6488",
   "metadata": {},
   "outputs": [
    {
     "data": {
      "text/plain": [
       "[1, 5, 6, 8, 2, 3, 4]"
      ]
     },
     "execution_count": 7,
     "metadata": {},
     "output_type": "execute_result"
    }
   ],
   "source": [
    "def remove_duplicates(input_list):\n",
    "    seen = set()\n",
    "    unique_list = []\n",
    "    for item in input_list:\n",
    "        if item not in seen:\n",
    "            unique_list.append(item)\n",
    "            seen.add(item)\n",
    "    return unique_list\n",
    "remove_duplicates([1,5,6,8,2,3,4])"
   ]
  },
  {
   "cell_type": "markdown",
   "id": "da9456d2",
   "metadata": {
    "id": "bea983a3"
   },
   "source": [
    "### Exercise 32:\n",
    "Write a Python function that takes two lists and returns their intersection.\n",
    "\n",
    "```python\n",
    "# Exercise 32\n",
    "```\n",
    "\n",
    "---"
   ]
  },
  {
   "cell_type": "code",
   "execution_count": 19,
   "id": "173fd1f9",
   "metadata": {},
   "outputs": [
    {
     "name": "stdout",
     "output_type": "stream",
     "text": [
      "The intersection of [1, 2, 3, 4, 5] and [3, 4, 5, 6, 7] is: [3, 4, 5]\n",
      "The intersection of ['apple', 'banana', 'orange'] and ['banana', 'grape', 'kiwi', 'orange'] is: ['banana', 'orange']\n"
     ]
    }
   ],
   "source": [
    "def find_list_intersection(list1, list2):\n",
    "    set1 = set(list1)\n",
    "    set2 = set(list2)\n",
    "    intersection_set = set1.intersection(set2)\n",
    "    return list(intersection_set)\n",
    "list_a = [1, 2, 3, 4, 5]\n",
    "list_b = [3, 4, 5, 6, 7]\n",
    "common_elements = find_list_intersection(list_a, list_b)\n",
    "print(f\"The intersection of {list_a} and {list_b} is: {common_elements}\")\n",
    "\n",
    "list_c = ['apple', 'banana', 'orange']\n",
    "list_d = ['banana', 'grape', 'kiwi', 'orange']\n",
    "common_fruits = find_list_intersection(list_c, list_d)\n",
    "print(f\"The intersection of {list_c} and {list_d} is: {common_fruits}\")"
   ]
  },
  {
   "cell_type": "markdown",
   "id": "14854193",
   "metadata": {
    "id": "bea983a3"
   },
   "source": [
    "### Exercise 33:\n",
    "Create a generator that yields the squares of numbers from 1 to 10.\n",
    "\n",
    "```python\n",
    "# Exercise 33\n",
    "```\n",
    "\n",
    "---"
   ]
  },
  {
   "cell_type": "code",
   "execution_count": 20,
   "id": "4fac20f9",
   "metadata": {},
   "outputs": [
    {
     "name": "stdout",
     "output_type": "stream",
     "text": [
      "1\n",
      "4\n",
      "9\n",
      "16\n",
      "25\n",
      "36\n",
      "49\n",
      "64\n",
      "81\n",
      "100\n"
     ]
    }
   ],
   "source": [
    "def square_generator(n):\n",
    "  \"\"\"Generates squares of numbers from 1 up to n.\"\"\"\n",
    "  for i in range(1, n + 1):\n",
    "    yield i * i\n",
    "squares = square_generator(10)\n",
    "for num in squares:\n",
    "    print(num)\n"
   ]
  },
  {
   "cell_type": "markdown",
   "id": "cc1a3901",
   "metadata": {
    "id": "bea983a3"
   },
   "source": [
    "### Exercise 34:\n",
    "Write a Python function that takes a dictionary as input and returns the sum of all its values.\n",
    "\n",
    "```python\n",
    "# Exercise 34\n",
    "```\n",
    "\n",
    "---"
   ]
  },
  {
   "cell_type": "code",
   "execution_count": 21,
   "id": "0c726ada",
   "metadata": {},
   "outputs": [
    {
     "name": "stdout",
     "output_type": "stream",
     "text": [
      "The sum of values in the dictionary is: 60\n"
     ]
    }
   ],
   "source": [
    "def sum_dictionary_values(input_dict):\n",
    "  \"\"\"\n",
    "  Calculates the sum of all numeric values in a dictionary\n",
    "\n",
    "  Returns:\n",
    "    The sum of all values in the dictionary.\n",
    "  \"\"\"\n",
    "  return sum(input_dict.values())\n",
    "my_dict = {'a': 10, 'b': 20, 'c': 30}\n",
    "total_sum = sum_dictionary_values(my_dict)\n",
    "print(f\"The sum of values in the dictionary is: {total_sum}\")"
   ]
  },
  {
   "cell_type": "markdown",
   "id": "f7b02244",
   "metadata": {
    "id": "bea983a3"
   },
   "source": [
    "### Exercise 35:\n",
    "Use the `sorted()` function to sort the list `[3, 1, 4, 1, 5, 9]` in ascending order.\n",
    "\n",
    "```python\n",
    "# Exercise 35\n",
    "```\n",
    "\n",
    "---"
   ]
  },
  {
   "cell_type": "code",
   "execution_count": 22,
   "id": "3a9efb8d",
   "metadata": {},
   "outputs": [
    {
     "name": "stdout",
     "output_type": "stream",
     "text": [
      "[1, 1, 3, 4, 5, 9]\n"
     ]
    }
   ],
   "source": [
    "liste=[3, 1, 4, 1, 5, 9]\n",
    "liste.sort()\n",
    "print(liste)"
   ]
  },
  {
   "cell_type": "markdown",
   "id": "958fd39b",
   "metadata": {
    "id": "bea983a3"
   },
   "source": [
    "### Exercise 36:\n",
    "Write a Python function that takes a list of strings as input and returns the longest string.\n",
    "\n",
    "```python\n",
    "# Exercise 36\n",
    "```\n",
    "\n",
    "---"
   ]
  },
  {
   "cell_type": "code",
   "execution_count": 25,
   "id": "e8956d3b",
   "metadata": {},
   "outputs": [
    {
     "data": {
      "text/plain": [
       "'height'"
      ]
     },
     "execution_count": 25,
     "metadata": {},
     "output_type": "execute_result"
    }
   ],
   "source": [
    "def find_longest_string(string_list):\n",
    "    if not string_list:\n",
    "        return None  \n",
    "    longest_string = \"\" \n",
    "    for s in string_list:\n",
    "        if len(s) > len(longest_string):\n",
    "            longest_string = s\n",
    "    return longest_string\n",
    "find_longest_string([\"name\",\"age\",\"city\",\"height\"])"
   ]
  },
  {
   "cell_type": "markdown",
   "id": "2af5720a",
   "metadata": {
    "id": "bea983a3"
   },
   "source": [
    "### Exercise 37:\n",
    "Check if all the elements in the list `[1, 2, 3, 4, 5]` are greater than 0 using the `all()` function.\n",
    "\n",
    "```python\n",
    "# Exercise 37\n",
    "```\n",
    "\n",
    "---"
   ]
  },
  {
   "cell_type": "code",
   "execution_count": 26,
   "id": "7ed19b5d",
   "metadata": {},
   "outputs": [
    {
     "name": "stdout",
     "output_type": "stream",
     "text": [
      "True\n"
     ]
    }
   ],
   "source": [
    "my_list = [1, 2, 3, 4, 5]\n",
    "result = all(x > 0 for x in my_list)\n",
    "print(result) "
   ]
  },
  {
   "cell_type": "markdown",
   "id": "a0834917",
   "metadata": {
    "id": "bea983a3"
   },
   "source": [
    "### Exercise 38:\n",
    "Create a list of tuples where each tuple contains a number and its square for numbers from 1 to 5.\n",
    "\n",
    "```python\n",
    "# Exercise 38\n",
    "```\n",
    "\n",
    "---"
   ]
  },
  {
   "cell_type": "code",
   "execution_count": 27,
   "id": "4e1c941b",
   "metadata": {},
   "outputs": [
    {
     "name": "stdout",
     "output_type": "stream",
     "text": [
      "{1, 4, 9, 16, 25}\n"
     ]
    }
   ],
   "source": [
    "squares_tuple = {i**2 for i in range(1, 6)}\n",
    "print(squares_tuple)"
   ]
  },
  {
   "cell_type": "markdown",
   "id": "3a03af09",
   "metadata": {
    "id": "bea983a3"
   },
   "source": [
    "### Exercise 39:\n",
    "Write a Python function that takes a list of tuples and returns a list of the second elements from each tuple.\n",
    "\n",
    "```python\n",
    "# Exercise 39\n",
    "```\n",
    "\n",
    "---"
   ]
  },
  {
   "cell_type": "code",
   "execution_count": 29,
   "id": "b4d637fc",
   "metadata": {},
   "outputs": [
    {
     "name": "stdout",
     "output_type": "stream",
     "text": [
      "[1, 2, 3]\n"
     ]
    }
   ],
   "source": [
    "def get_second_elements(list_of_tuples):\n",
    "    return [t[1] for t in list_of_tuples]\n",
    "data = [('apple', 1), ('banana', 2), ('cherry', 3)]\n",
    "second_elements = get_second_elements(data)\n",
    "print(second_elements)"
   ]
  },
  {
   "cell_type": "markdown",
   "id": "a882cef1",
   "metadata": {
    "id": "bea983a3"
   },
   "source": [
    "### Exercise 40:\n",
    "Write a Python function that flattens a list of lists into a single list.\n",
    "\n",
    "```python\n",
    "# Exercise 40\n",
    "```\n",
    "\n",
    "---"
   ]
  },
  {
   "cell_type": "code",
   "execution_count": 172,
   "id": "d9ccb97c",
   "metadata": {},
   "outputs": [
    {
     "name": "stdout",
     "output_type": "stream",
     "text": [
      "{1, 2, 3, 4, 5, 6}\n"
     ]
    }
   ],
   "source": [
    "liste_1 = { 1, 2,4,3}\n",
    "liste_2 = {3,4,5,6}\n",
    "liste_1.update(liste_2)\n",
    "print(liste_1)"
   ]
  },
  {
   "cell_type": "markdown",
   "id": "32767bc3",
   "metadata": {
    "id": "bea983a3"
   },
   "source": [
    "### Exercise 41:\n",
    "Use the `enumerate()` function to iterate through the list `[\"apple\", \"banana\", \"cherry\"]` and print the index and value.\n",
    "\n",
    "```python\n",
    "# Exercise 41\n",
    "```\n",
    "\n",
    "---"
   ]
  },
  {
   "cell_type": "code",
   "execution_count": 173,
   "id": "422c2ac8",
   "metadata": {},
   "outputs": [
    {
     "name": "stdout",
     "output_type": "stream",
     "text": [
      "Index: 0, Value: apple\n",
      "Index: 1, Value: banana\n",
      "Index: 2, Value: cherry\n"
     ]
    }
   ],
   "source": [
    "my_list = [\"apple\", \"banana\", \"cherry\"]\n",
    "for index, value in enumerate(my_list):\n",
    "    print(f\"Index: {index}, Value: {value}\")"
   ]
  },
  {
   "cell_type": "markdown",
   "id": "20e9c665",
   "metadata": {
    "id": "bea983a3"
   },
   "source": [
    "### Exercise 42:\n",
    "Write a Python program that checks if a tuple is empty.\n",
    "\n",
    "```python\n",
    "# Exercise 42\n",
    "```\n",
    "\n",
    "---"
   ]
  },
  {
   "cell_type": "code",
   "execution_count": 174,
   "id": "75e05add",
   "metadata": {},
   "outputs": [
    {
     "name": "stdout",
     "output_type": "stream",
     "text": [
      "Is () empty? True\n",
      "Is (1, 2, 3) empty? False\n"
     ]
    }
   ],
   "source": [
    "def is_tuple_empty_not_operator(my_tuple):\n",
    "    if not my_tuple:\n",
    "        return True\n",
    "    else:\n",
    "        return False\n",
    "empty_tuple = ()\n",
    "non_empty_tuple = (1, 2, 3)\n",
    "\n",
    "print(f\"Is {empty_tuple} empty? {is_tuple_empty_not_operator(empty_tuple)}\")\n",
    "print(f\"Is {non_empty_tuple} empty? {is_tuple_empty_not_operator(non_empty_tuple)}\")"
   ]
  },
  {
   "cell_type": "markdown",
   "id": "ef21e639",
   "metadata": {
    "id": "bea983a3"
   },
   "source": [
    "### Exercise 43:\n",
    "Create a list of even numbers between 1 and 20 using the `range()` function.\n",
    "\n",
    "```python\n",
    "# Exercise 43\n",
    "```\n",
    "\n",
    "---"
   ]
  },
  {
   "cell_type": "code",
   "execution_count": 175,
   "id": "06cc3833",
   "metadata": {},
   "outputs": [
    {
     "name": "stdout",
     "output_type": "stream",
     "text": [
      "Liste of even numbers:[2, 4, 6, 8, 10, 12, 14, 16, 18, 20]\n"
     ]
    }
   ],
   "source": [
    "even_numbers_liste=list(num for num in range (2,21) if num%2==0)\n",
    "print(f\"Liste of even numbers:{even_numbers_liste}\")"
   ]
  },
  {
   "cell_type": "markdown",
   "id": "10126f35",
   "metadata": {
    "id": "bea983a3"
   },
   "source": [
    "### Exercise 44:\n",
    "Write a Python function that takes a list of numbers as input and returns the list in reverse order.\n",
    "\n",
    "```python\n",
    "# Exercise 44\n",
    "```\n",
    "\n",
    "---"
   ]
  },
  {
   "cell_type": "code",
   "execution_count": 176,
   "id": "fcfa79f6",
   "metadata": {},
   "outputs": [
    {
     "name": "stdout",
     "output_type": "stream",
     "text": [
      "[4, 3, 2, 1]\n"
     ]
    }
   ],
   "source": [
    "def reverse_list(input_list):\n",
    "    return input_list[::-1]\n",
    "my_list = [1, 2, 3, 4]\n",
    "reversed_my_list = reverse_list(my_list)\n",
    "print(reversed_my_list)"
   ]
  },
  {
   "cell_type": "markdown",
   "id": "73de4f37",
   "metadata": {
    "id": "bea983a3"
   },
   "source": [
    "### Exercise 45:\n",
    "Create a dictionary comprehension that maps numbers from 1 to 5 to their cubes.\n",
    "\n",
    "```python\n",
    "# Exercise 45\n",
    "```\n",
    "\n",
    "---"
   ]
  },
  {
   "cell_type": "code",
   "execution_count": 177,
   "id": "b7a21de7",
   "metadata": {},
   "outputs": [
    {
     "name": "stdout",
     "output_type": "stream",
     "text": [
      "{1: 1, 2: 8, 3: 27, 4: 64, 5: 125}\n"
     ]
    }
   ],
   "source": [
    "cubes_dict = {num: num**3 for num in range(1, 6)}\n",
    "print(cubes_dict)"
   ]
  },
  {
   "cell_type": "markdown",
   "id": "dde42817",
   "metadata": {
    "id": "bea983a3"
   },
   "source": [
    "### Exercise 46:\n",
    "Write a Python program that creates a new list containing only the unique elements of the list `[1, 2, 2, 3, 4, 4, 5]`.\n",
    "\n",
    "```python\n",
    "# Exercise 46\n",
    "```\n",
    "\n",
    "---"
   ]
  },
  {
   "cell_type": "code",
   "execution_count": 178,
   "id": "1ef372a0",
   "metadata": {},
   "outputs": [
    {
     "name": "stdout",
     "output_type": "stream",
     "text": [
      "The original list is: [1, 2, 2, 3, 4, 4, 5]\n",
      "The list with unique elements is: [1, 2, 3, 4, 5]\n"
     ]
    }
   ],
   "source": [
    "original_list = [1, 2, 2, 3, 4, 4, 5]\n",
    "unique_elements_set = set(original_list)\n",
    "unique_list = list(unique_elements_set)\n",
    "print(f\"The original list is: {original_list}\")\n",
    "print(f\"The list with unique elements is: {unique_list}\")"
   ]
  },
  {
   "cell_type": "markdown",
   "id": "d9dd1d9c",
   "metadata": {
    "id": "bea983a3"
   },
   "source": [
    "### Exercise 47:\n",
    "Write a Python function that takes a list of dictionaries and returns a list of the values for a given key.\n",
    "\n",
    "```python\n",
    "# Exercise 47\n",
    "```\n",
    "\n",
    "---"
   ]
  },
  {
   "cell_type": "code",
   "execution_count": 179,
   "id": "fccd38dc",
   "metadata": {},
   "outputs": [
    {
     "name": "stdout",
     "output_type": "stream",
     "text": [
      "Alice\n",
      "Bob\n",
      "Charlie\n",
      "David\n"
     ]
    }
   ],
   "source": [
    "data = [\n",
    "    {\"name\": \"Alice\", \"age\": 30, \"city\": \"New York\"},\n",
    "    {\"name\": \"Bob\", \"age\": 25, \"city\": \"London\"},\n",
    "    {\"name\": \"Charlie\", \"city\": \"Paris\"},\n",
    "    {\"name\": \"David\", \"age\": 35}\n",
    "]\n",
    "for i in data:\n",
    "    print(i[\"name\"])"
   ]
  },
  {
   "cell_type": "markdown",
   "id": "2af958d2",
   "metadata": {
    "id": "bea983a3"
   },
   "source": [
    "### Exercise 48:\n",
    "Write a Python function that uses a generator to yield the Fibonacci sequence up to `n` terms.\n",
    "\n",
    "```python\n",
    "# Exercise 48\n",
    "```\n",
    "\n",
    "---"
   ]
  },
  {
   "cell_type": "code",
   "execution_count": 30,
   "id": "69388447",
   "metadata": {},
   "outputs": [
    {
     "data": {
      "text/plain": [
       "8"
      ]
     },
     "execution_count": 30,
     "metadata": {},
     "output_type": "execute_result"
    }
   ],
   "source": [
    "def fib(n):\n",
    "    if n <= 1:\n",
    "        return n\n",
    "    return fib(n-1) + fib(n-2)\n",
    "fib(6)"
   ]
  },
  {
   "cell_type": "markdown",
   "id": "e2cd98c0",
   "metadata": {
    "id": "bea983a3"
   },
   "source": [
    "### Exercise 49:\n",
    "Write a Python function that takes a string and returns a list of all unique characters in the string.\n",
    "\n",
    "```python\n",
    "# Exercise 49\n",
    "```\n",
    "\n",
    "---"
   ]
  },
  {
   "cell_type": "code",
   "execution_count": 32,
   "id": "2b418e4e",
   "metadata": {},
   "outputs": [
    {
     "data": {
      "text/plain": [
       "['u', 'a', 'h', 'i', 'm', 'q', 'e', 't']"
      ]
     },
     "execution_count": 32,
     "metadata": {},
     "output_type": "execute_result"
    }
   ],
   "source": [
    "def get_unique_characters(input_string):\n",
    "    return list(set(input_string))\n",
    "get_unique_characters(\"mathematique\")"
   ]
  },
  {
   "cell_type": "markdown",
   "id": "9c7f81d6",
   "metadata": {
    "id": "bea983a3"
   },
   "source": [
    "### Exercise 50:\n",
    "Write a Python function that merges two sorted lists into a single sorted list.\n",
    "\n",
    "```python\n",
    "# Exercise 50\n",
    "```\n",
    "\n",
    "---"
   ]
  },
  {
   "cell_type": "code",
   "execution_count": 39,
   "id": "850e4a15",
   "metadata": {},
   "outputs": [
    {
     "name": "stdout",
     "output_type": "stream",
     "text": [
      "Merged sorted list: [1, 3, 5, 7, 2, 4, 6, 8, 10]\n",
      "Merged sorted list with an empty list: [1, 2, 3]\n"
     ]
    }
   ],
   "source": [
    "def merge_sorted_lists(list1, list2):\n",
    "    merged_list = []\n",
    "    i = 0  \n",
    "    j = 0  \n",
    "    while i < len(list1):\n",
    "        merged_list.append(list1[i])\n",
    "        i += 1\n",
    "    while j < len(list2):\n",
    "        merged_list.append(list2[j])\n",
    "        j += 1\n",
    "    return merged_list\n",
    "list_a = [1, 3, 5, 7]\n",
    "list_b = [2, 4, 6, 8, 10]\n",
    "result = merge_sorted_lists(list_a, list_b)\n",
    "print(f\"Merged sorted list: {result}\")\n",
    "\n",
    "list_c = []\n",
    "list_d = [1, 2, 3]\n",
    "result2 = merge_sorted_lists(list_c, list_d)\n",
    "print(f\"Merged sorted list with an empty list: {result2}\")"
   ]
  },
  {
   "cell_type": "markdown",
   "id": "676a7fc6",
   "metadata": {
    "id": "bea983a3"
   },
   "source": [
    "### Exercise 51:\n",
    "Use the `filter()` function to filter out odd numbers from the list `[1, 2, 3, 4, 5, 6]`.\n",
    "\n",
    "```python\n",
    "# Exercise 51\n",
    "```\n",
    "\n",
    "---"
   ]
  },
  {
   "cell_type": "code",
   "execution_count": 40,
   "id": "87221c41",
   "metadata": {},
   "outputs": [
    {
     "name": "stdout",
     "output_type": "stream",
     "text": [
      "[1, 3, 5]\n"
     ]
    }
   ],
   "source": [
    "numbers = [1, 2, 3, 4, 5, 6]\n",
    "odd_numbers = list(filter(lambda x: x % 2 != 0, numbers))\n",
    "print(odd_numbers)"
   ]
  },
  {
   "cell_type": "markdown",
   "id": "f9a48841",
   "metadata": {
    "id": "bea983a3"
   },
   "source": [
    "### Exercise 52:\n",
    "Write a Python program that converts a list of tuples `[(1, 2), (3, 4), (5, 6)]` into a dictionary.\n",
    "\n",
    "```python\n",
    "# Exercise 52\n",
    "```\n",
    "\n",
    "---"
   ]
  },
  {
   "cell_type": "code",
   "execution_count": 185,
   "id": "12c1f768",
   "metadata": {},
   "outputs": [
    {
     "name": "stdout",
     "output_type": "stream",
     "text": [
      "{1: 2, 3: 4, 5: 6}\n"
     ]
    }
   ],
   "source": [
    "list_of_tuples = [(1, 2), (3, 4), (5, 6)]\n",
    "result_dict = dict(list_of_tuples)\n",
    "print(result_dict)"
   ]
  },
  {
   "cell_type": "markdown",
   "id": "5ee1013c",
   "metadata": {
    "id": "bea983a3"
   },
   "source": [
    "### Exercise 53:\n",
    "Write a Python function that takes two sets and returns their symmetric difference.\n",
    "\n",
    "```python\n",
    "# Exercise 53\n",
    "```\n",
    "\n",
    "---"
   ]
  },
  {
   "cell_type": "code",
   "execution_count": 186,
   "id": "9c548767",
   "metadata": {},
   "outputs": [
    {
     "name": "stdout",
     "output_type": "stream",
     "text": [
      "The symmetric difference of {1, 2, 3, 4} and {3, 4, 5, 6} is: {1, 2, 5, 6}\n"
     ]
    }
   ],
   "source": [
    "def get_symmetric_difference(set1, set2):\n",
    "    return set1.symmetric_difference(set2)\n",
    "set_a = {1, 2, 3, 4}\n",
    "set_b = {3, 4, 5, 6}\n",
    "result = get_symmetric_difference(set_a, set_b)\n",
    "print(f\"The symmetric difference of {set_a} and {set_b} is: {result}\")"
   ]
  },
  {
   "cell_type": "markdown",
   "id": "3a894109",
   "metadata": {
    "id": "bea983a3"
   },
   "source": [
    "### Exercise 54:\n",
    "Write a Python program that finds the common elements in three lists `list1`, `list2`, and `list3`.\n",
    "\n",
    "```python\n",
    "# Exercise 54\n",
    "```\n",
    "\n",
    "---"
   ]
  },
  {
   "cell_type": "code",
   "execution_count": 41,
   "id": "eb5474a5",
   "metadata": {},
   "outputs": [
    {
     "name": "stdout",
     "output_type": "stream",
     "text": [
      "The common elements in all three lists are: [4]\n"
     ]
    }
   ],
   "source": [
    "def find_common_elements(list1, list2,list3):\n",
    "    set1 = set(list1)\n",
    "    set2 = set(list2)\n",
    "    set3 = set(list3)\n",
    "    common_elements_set = set1.intersection(set2,set3)\n",
    "    return list(common_elements_set)\n",
    "list_1 = [1, 2, 3, 4, 5,10]\n",
    "list_2 = [3, 4, 5, 6, 7, 3]\n",
    "list_3 = [6, 7, 4, 9, 2, 6]\n",
    "\n",
    "common_items = find_common_elements(list_1, list_2, list_3)\n",
    "print(f\"The common elements in all three lists are: {common_items}\")"
   ]
  },
  {
   "cell_type": "markdown",
   "id": "a9854c3a",
   "metadata": {
    "id": "bea983a3"
   },
   "source": [
    "### Exercise 55:\n",
    "Write a Python function that returns the factorial of a number using recursion.\n",
    "\n",
    "```python\n",
    "# Exercise 55\n",
    "```\n",
    "\n",
    "---"
   ]
  },
  {
   "cell_type": "code",
   "execution_count": 243,
   "id": "5101e5b5",
   "metadata": {},
   "outputs": [
    {
     "data": {
      "text/plain": [
       "720"
      ]
     },
     "execution_count": 243,
     "metadata": {},
     "output_type": "execute_result"
    }
   ],
   "source": [
    "def fact(n):\n",
    "    if n <= 1:           \n",
    "        return 1\n",
    "    return n * fact(n-1)\n",
    "\n",
    "n=6\n",
    "fact(6)"
   ]
  },
  {
   "cell_type": "markdown",
   "id": "f095c7da",
   "metadata": {
    "id": "bea983a3"
   },
   "source": [
    "### Exercise 56:\n",
    "Write a Python program that removes all empty strings from the list `[\"apple\", \"\", \"banana\", \"\", \"cherry\"]`.\n",
    "\n",
    "```python\n",
    "# Exercise 56\n",
    "```\n",
    "\n",
    "---"
   ]
  },
  {
   "cell_type": "code",
   "execution_count": 187,
   "id": "624f6af3",
   "metadata": {},
   "outputs": [
    {
     "name": "stdout",
     "output_type": "stream",
     "text": [
      "Modifying in-place with while loop: ['apple', 'banana', 'cherry']\n"
     ]
    }
   ],
   "source": [
    "list_in_place = [\"apple\", \"\", \"banana\", \"\", \"cherry\"] \n",
    "while \"\" in list_in_place:\n",
    "    list_in_place.remove(\"\")\n",
    "print(f\"Modifying in-place with while loop: {list_in_place}\")"
   ]
  },
  {
   "cell_type": "markdown",
   "id": "cd257fa3",
   "metadata": {
    "id": "bea983a3"
   },
   "source": [
    "### Exercise 57:\n",
    "Write a Python function that takes a dictionary and returns a new dictionary with the keys and values swapped.\n",
    "\n",
    "```python\n",
    "# Exercise 57\n",
    "```\n",
    "\n",
    "---"
   ]
  },
  {
   "cell_type": "code",
   "execution_count": 188,
   "id": "aef83169",
   "metadata": {},
   "outputs": [
    {
     "name": "stdout",
     "output_type": "stream",
     "text": [
      "{1: 'a', 2: 'b', 3: 'c'}\n"
     ]
    }
   ],
   "source": [
    "def swap_keys_values(original_dict):\n",
    "    swapped_dict = {value: key for key, value in original_dict.items()}\n",
    "    return swapped_dict\n",
    "my_dict = {'a': 1, 'b': 2, 'c': 3}\n",
    "swapped_result = swap_keys_values(my_dict)\n",
    "print(swapped_result)"
   ]
  },
  {
   "cell_type": "markdown",
   "id": "7dfa6878",
   "metadata": {
    "id": "bea983a3"
   },
   "source": [
    "### Exercise 58:\n",
    "Write a Python function that takes a list of integers and returns a new list with only the even numbers.\n",
    "\n",
    "```python\n",
    "# Exercise 58\n",
    "```\n",
    "\n",
    "---"
   ]
  },
  {
   "cell_type": "code",
   "execution_count": 46,
   "id": "8b661952",
   "metadata": {},
   "outputs": [
    {
     "name": "stdout",
     "output_type": "stream",
     "text": [
      "Original list:[1, 2, 3, 4, 5, 6, 7, 8, 9, 10]\n",
      "Even numbers list:[2, 4, 6, 8, 10]\n"
     ]
    }
   ],
   "source": [
    "def get_even_numbers(numbers):\n",
    "    even_numbers = []\n",
    "    for number in numbers:\n",
    "        if number % 2 == 0:  \n",
    "            even_numbers.append(number)\n",
    "    return even_numbers\n",
    "my_list=[1, 2, 3, 4, 5, 6, 7, 8, 9, 10]\n",
    "even_list=get_even_numbers(my_list)\n",
    "print(f\"Original list:{my_list}\")\n",
    "print(f\"Even numbers list:{even_list}\")"
   ]
  },
  {
   "cell_type": "markdown",
   "id": "bf6093ee",
   "metadata": {
    "id": "bea983a3"
   },
   "source": [
    "### Exercise 59:\n",
    "Write a Python function that takes a list of tuples and returns a list of the first elements of each tuple.\n",
    "\n",
    "```python\n",
    "# Exercise 59\n",
    "```\n",
    "\n",
    "---"
   ]
  },
  {
   "cell_type": "code",
   "execution_count": 47,
   "id": "af5adb66",
   "metadata": {},
   "outputs": [
    {
     "name": "stdout",
     "output_type": "stream",
     "text": [
      "['apple', 'banana', 'cherry']\n"
     ]
    }
   ],
   "source": [
    "def get_first_elements(list_of_tuples):\n",
    "    return [t[0] for t in list_of_tuples]\n",
    "my_list_of_tuples = [('apple', 1), ('banana', 2), ('cherry', 3)]\n",
    "first_elements = get_first_elements(my_list_of_tuples)\n",
    "print(first_elements)"
   ]
  },
  {
   "cell_type": "markdown",
   "id": "2fd19c37",
   "metadata": {
    "id": "bea983a3"
   },
   "source": [
    "### Exercise 60:\n",
    "Write a Python program that removes duplicates from a list without changing the order of elements.\n",
    "\n",
    "```python\n",
    "# Exercise 60\n",
    "```\n",
    "\n",
    "---"
   ]
  },
  {
   "cell_type": "code",
   "execution_count": 48,
   "id": "b7d274bb",
   "metadata": {},
   "outputs": [
    {
     "name": "stdout",
     "output_type": "stream",
     "text": [
      "Original list: [1, 2, 2, 3, 4, 4, 5, 1, 6]\n",
      "List with duplicates removed (order preserved): [1, 2, 3, 4, 5, 6]\n"
     ]
    }
   ],
   "source": [
    "def remove_duplicates_preserve_order(input_list):\n",
    "    return list(dict.fromkeys(input_list))\n",
    "my_list = [1, 2, 2, 3, 4, 4, 5, 1, 6]\n",
    "unique_list = remove_duplicates_preserve_order(my_list)\n",
    "print(f\"Original list: {my_list}\")\n",
    "print(f\"List with duplicates removed (order preserved): {unique_list}\")"
   ]
  },
  {
   "cell_type": "markdown",
   "id": "1ed196c2",
   "metadata": {
    "id": "bea983a3"
   },
   "source": [
    "### Exercise 61:\n",
    "Use the `map()` function to convert a list of strings to a list of their lengths.\n",
    "\n",
    "```python\n",
    "# Exercise 61\n",
    "```\n",
    "\n",
    "---"
   ]
  },
  {
   "cell_type": "code",
   "execution_count": 49,
   "id": "9f160b45",
   "metadata": {},
   "outputs": [
    {
     "name": "stdout",
     "output_type": "stream",
     "text": [
      "[5, 6, 6, 4]\n"
     ]
    }
   ],
   "source": [
    "string_list = [\"apple\", \"banana\", \"cherry\", \"date\"]\n",
    "lengths_map_object = map(len, string_list)\n",
    "lengths_list = list(lengths_map_object)\n",
    "print(lengths_list)"
   ]
  },
  {
   "cell_type": "markdown",
   "id": "5ac22e0c",
   "metadata": {
    "id": "bea983a3"
   },
   "source": [
    "### Exercise 62:\n",
    "Write a Python program that calculates the average of a list of numbers.\n",
    "\n",
    "```python\n",
    "# Exercise 62\n",
    "```\n",
    "\n",
    "---"
   ]
  },
  {
   "cell_type": "code",
   "execution_count": 50,
   "id": "6329534c",
   "metadata": {},
   "outputs": [
    {
     "name": "stdout",
     "output_type": "stream",
     "text": [
      "The average of [10, 20, 30, 40, 50] is: 30.0\n"
     ]
    }
   ],
   "source": [
    "def calculate_average(numbers_list):\n",
    "    if not numbers_list:\n",
    "        return 0\n",
    "    total_sum = sum(numbers_list)\n",
    "    average = total_sum / len(numbers_list)\n",
    "    return average\n",
    "my_numbers = [10, 20, 30, 40, 50]\n",
    "avg = calculate_average(my_numbers)\n",
    "print(f\"The average of {my_numbers} is: {avg}\")"
   ]
  },
  {
   "cell_type": "markdown",
   "id": "b6b186a5",
   "metadata": {
    "id": "bea983a3"
   },
   "source": [
    "### Exercise 63:\n",
    "Write a Python function that generates a list of the first `n` Fibonacci numbers.\n",
    "\n",
    "```python\n",
    "# Exercise 63\n",
    "```\n",
    "\n",
    "---"
   ]
  },
  {
   "cell_type": "code",
   "execution_count": 143,
   "id": "cfad979e",
   "metadata": {},
   "outputs": [
    {
     "data": {
      "text/plain": [
       "[0, 1, 1, 2, 3, 5]"
      ]
     },
     "execution_count": 143,
     "metadata": {},
     "output_type": "execute_result"
    }
   ],
   "source": [
    "def generate_fibonacci_list(n):\n",
    "    if n <= 0:\n",
    "        return []\n",
    "    elif n==1:\n",
    "        return[0]\n",
    "    else:\n",
    "        fib_list=[0, 1]\n",
    "        while len(fib_list)<n:\n",
    "            next_fib=fib_list[-1] + fib_list[-2]\n",
    "            fib_list.append(next_fib)\n",
    "    return fib_list\n",
    "generate_fibonacci_list(6)"
   ]
  },
  {
   "cell_type": "markdown",
   "id": "1aceb543",
   "metadata": {
    "id": "bea983a3"
   },
   "source": [
    "### Exercise 64:\n",
    "Write a Python program that counts how many times each element appears in the list `[\"apple\", \"banana\", \"apple\", \"cherry\"]`.\n",
    "\n",
    "```python\n",
    "# Exercise 64\n",
    "```\n",
    "\n",
    "---"
   ]
  },
  {
   "cell_type": "code",
   "execution_count": 142,
   "id": "a9a89108",
   "metadata": {},
   "outputs": [
    {
     "name": "stdout",
     "output_type": "stream",
     "text": [
      "Counter({'apple': 2, 'banana': 1, 'cherry': 1})\n"
     ]
    }
   ],
   "source": [
    "my_list = [\"apple\", \"banana\", \"apple\", \"cherry\"]\n",
    "element_counts = Counter(my_list)\n",
    "print(element_counts)"
   ]
  },
  {
   "cell_type": "markdown",
   "id": "0f6d6428",
   "metadata": {
    "id": "bea983a3"
   },
   "source": [
    "### Exercise 65:\n",
    "Write a Python program that removes all occurrences of a specific value from a list.\n",
    "\n",
    "```python\n",
    "# Exercise 65\n",
    "```\n",
    "\n",
    "---"
   ]
  },
  {
   "cell_type": "code",
   "execution_count": 53,
   "id": "44801ef2",
   "metadata": {},
   "outputs": [
    {
     "name": "stdout",
     "output_type": "stream",
     "text": [
      "Original list: [1, 2, 3, 2, 4, 2, 5]\n",
      "List after removing 2: [1, 3, 4, 5]\n"
     ]
    }
   ],
   "source": [
    "def remove_all_occurrences_comprehension(input_list, value_to_remove):\n",
    "    new_list = [item for item in input_list if item != value_to_remove]\n",
    "    return new_list\n",
    "my_list = [1, 2, 3, 2, 4, 2, 5]\n",
    "value = 2\n",
    "modified_list = remove_all_occurrences_comprehension(my_list, value)\n",
    "print(f\"Original list: {my_list}\")\n",
    "print(f\"List after removing {value}: {modified_list}\")"
   ]
  },
  {
   "cell_type": "markdown",
   "id": "8f076407",
   "metadata": {
    "id": "bea983a3"
   },
   "source": [
    "### Exercise 66:\n",
    "Write a Python function that takes a list of strings and returns a list of the strings that start with a vowel.\n",
    "\n",
    "```python\n",
    "# Exercise 66\n",
    "```\n",
    "\n",
    "---"
   ]
  },
  {
   "cell_type": "code",
   "execution_count": 55,
   "id": "9d090199",
   "metadata": {},
   "outputs": [
    {
     "data": {
      "text/plain": [
       "['ami', 'aysa', 'abou']"
      ]
     },
     "execution_count": 55,
     "metadata": {},
     "output_type": "execute_result"
    }
   ],
   "source": [
    "def get_vowel_starting_strings(string_list):\n",
    "    vowels = \"aeiouAEIOU\"\n",
    "    result = []\n",
    "    for word in string_list:\n",
    "        if word and word[0] in vowels:  \n",
    "            result.append(word)\n",
    "    return result\n",
    "get_vowel_starting_strings([\"marie\",\"papa\",\"ami\",\"aysa\",\"abou\"])"
   ]
  },
  {
   "cell_type": "markdown",
   "id": "78f50d0a",
   "metadata": {
    "id": "bea983a3"
   },
   "source": [
    "### Exercise 67:\n",
    "Write a Python program that finds the intersection of two sets `set1` and `set2`.\n",
    "\n",
    "```python\n",
    "# Exercise 67\n",
    "```\n",
    "\n",
    "---"
   ]
  },
  {
   "cell_type": "code",
   "execution_count": 56,
   "id": "2aba3a2b",
   "metadata": {},
   "outputs": [
    {
     "name": "stdout",
     "output_type": "stream",
     "text": [
      "Set 1: {1, 2, 3, 4, 5}\n",
      "Set 2: {4, 5, 6, 7, 8}\n",
      "Intersection using .intersection() method: {4, 5}\n",
      "The final intersection is: {4, 5}\n"
     ]
    }
   ],
   "source": [
    "def find_set_intersection(set1, set2):\n",
    "    intersection_method = set1.intersection(set2)\n",
    "    print(f\"Intersection using .intersection() method: {intersection_method}\")\n",
    "    return intersection_method \n",
    "if __name__ == \"__main__\":\n",
    "    my_set1 = {1, 2, 3, 4, 5}\n",
    "    my_set2 = {4, 5, 6, 7, 8}\n",
    "    print(f\"Set 1: {my_set1}\")\n",
    "    print(f\"Set 2: {my_set2}\")\n",
    "    result_intersection = find_set_intersection(my_set1, my_set2)\n",
    "    print(f\"The final intersection is: {result_intersection}\")"
   ]
  },
  {
   "cell_type": "markdown",
   "id": "719c630a",
   "metadata": {
    "id": "bea983a3"
   },
   "source": [
    "### Exercise 68:\n",
    "Write a Python function that flattens a nested list.\n",
    "\n",
    "```python\n",
    "# Exercise 68\n",
    "```\n",
    "\n",
    "---"
   ]
  },
  {
   "cell_type": "code",
   "execution_count": 107,
   "id": "eebf7b73",
   "metadata": {},
   "outputs": [
    {
     "name": "stdout",
     "output_type": "stream",
     "text": [
      "[1, 2, 3, 4, 5, 6]\n"
     ]
    }
   ],
   "source": [
    "def flatten_list(nested_list):\n",
    "    flat_list = []\n",
    "    for item in nested_list:\n",
    "        if isinstance(item, list):\n",
    "            flat_list.extend(flatten_list(item))\n",
    "        else:\n",
    "            flat_list.append(item)\n",
    "    return flat_list\n",
    "nested_list=[1, [2, [3, 4], 5], 6]\n",
    "print(flatten_list(nested_list))"
   ]
  },
  {
   "cell_type": "markdown",
   "id": "1cc90088",
   "metadata": {
    "id": "bea983a3"
   },
   "source": [
    "### Exercise 69:\n",
    "Write a Python program that checks if all the elements in a list are unique.\n",
    "\n",
    "```python\n",
    "# Exercise 69\n",
    "```\n",
    "\n",
    "---"
   ]
  },
  {
   "cell_type": "code",
   "execution_count": 57,
   "id": "c5924783",
   "metadata": {},
   "outputs": [
    {
     "name": "stdout",
     "output_type": "stream",
     "text": [
      "List: [1, 2, 3, 4, 5], All elements unique: True\n",
      "List: [1, 2, 3, 2, 4], All elements unique: False\n",
      "List: ['apple', 'banana', 'orange'], All elements unique: True\n",
      "List: ['red', 'green', 'red'], All elements unique: False\n"
     ]
    }
   ],
   "source": [
    "def are_all_elements_unique(input_list):\n",
    "    unique_elements_set = set(input_list)\n",
    "    return len(unique_elements_set) == len(input_list)\n",
    "list1 = [1, 2, 3, 4, 5]\n",
    "list2 = [1, 2, 3, 2, 4]\n",
    "list4 = [\"apple\", \"banana\", \"orange\"]\n",
    "list5 = [\"red\", \"green\", \"red\"]\n",
    "print(f\"List: {list1}, All elements unique: {are_all_elements_unique(list1)}\")\n",
    "print(f\"List: {list2}, All elements unique: {are_all_elements_unique(list2)}\")\n",
    "print(f\"List: {list4}, All elements unique: {are_all_elements_unique(list4)}\")\n",
    "print(f\"List: {list5}, All elements unique: {are_all_elements_unique(list5)}\")"
   ]
  },
  {
   "cell_type": "markdown",
   "id": "072d50dd",
   "metadata": {
    "id": "bea983a3"
   },
   "source": [
    "### Exercise 70:\n",
    "Use the `reduce()` function from the `functools` module to multiply all elements in a list.\n",
    "\n",
    "```python\n",
    "# Exercise 70\n",
    "```\n",
    "\n",
    "---"
   ]
  },
  {
   "cell_type": "code",
   "execution_count": 141,
   "id": "a8c7fce4",
   "metadata": {},
   "outputs": [
    {
     "name": "stdout",
     "output_type": "stream",
     "text": [
      "The list is: [1, 2, 3, 4, 5]\n",
      "The product of all elements is: 120\n"
     ]
    }
   ],
   "source": [
    "my_list = [1, 2, 3, 4, 5]\n",
    "multiply_elements = lambda x, y: x * y\n",
    "product = reduce(multiply_elements, my_list)\n",
    "print(f\"The list is: {my_list}\")\n",
    "print(f\"The product of all elements is: {product}\")"
   ]
  },
  {
   "cell_type": "markdown",
   "id": "bc50cfbf",
   "metadata": {
    "id": "bea983a3"
   },
   "source": [
    "### Exercise 71:\n",
    "Write a Python function that takes a list of strings and returns a dictionary where keys are strings and values are their lengths.\n",
    "\n",
    "```python\n",
    "# Exercise 71\n",
    "```\n",
    "\n",
    "---"
   ]
  },
  {
   "cell_type": "code",
   "execution_count": 62,
   "id": "6a943871",
   "metadata": {},
   "outputs": [
    {
     "data": {
      "text/plain": [
       "{'banana': 6, 'apple': 5, 'orange': 6}"
      ]
     },
     "execution_count": 62,
     "metadata": {},
     "output_type": "execute_result"
    }
   ],
   "source": [
    "def create_string_length_dict(string_list):\n",
    "    result_dict = {}\n",
    "    for s in string_list:\n",
    "        result_dict[s] = len(s)\n",
    "    return result_dict\n",
    "create_string_length_dict([\"banana\",\"apple\",\"orange\"])"
   ]
  },
  {
   "cell_type": "markdown",
   "id": "fef83ff5",
   "metadata": {
    "id": "bea983a3"
   },
   "source": [
    "### Exercise 72:\n",
    "Write a Python program that counts the number of vowels in a string.\n",
    "\n",
    "```python\n",
    "# Exercise 72\n",
    "```\n",
    "\n",
    "---"
   ]
  },
  {
   "cell_type": "code",
   "execution_count": 8,
   "id": "fffcff7b",
   "metadata": {},
   "outputs": [
    {
     "name": "stdout",
     "output_type": "stream",
     "text": [
      "The number of vowels in 'Hello World! This is a test string.' is: 8\n"
     ]
    }
   ],
   "source": [
    "def count_vowels(input_string):\n",
    "    vowels = \"aeiouAEIOU\"\n",
    "    vowel_count = 0\n",
    "    for char in input_string:\n",
    "        if char in vowels:\n",
    "            vowel_count += 1\n",
    "    return vowel_count\n",
    "my_string = \"Hello World! This is a test string.\"\n",
    "num_vowels = count_vowels(my_string)\n",
    "print(f\"The number of vowels in '{my_string}' is: {num_vowels}\")"
   ]
  },
  {
   "cell_type": "markdown",
   "id": "74b6e832",
   "metadata": {
    "id": "bea983a3"
   },
   "source": [
    "### Exercise 73:\n",
    "Create a list of tuples where each tuple contains a number from 1 to 5 and its factorial.\n",
    "\n",
    "```python\n",
    "# Exercise 73\n",
    "```\n",
    "\n",
    "---"
   ]
  },
  {
   "cell_type": "code",
   "execution_count": 65,
   "id": "e5ea78e2",
   "metadata": {},
   "outputs": [
    {
     "name": "stdout",
     "output_type": "stream",
     "text": [
      "[(1, 1), (2, 2), (3, 6), (4, 24), (5, 120)]\n"
     ]
    }
   ],
   "source": [
    "import math\n",
    "factorial_list = []\n",
    "for i in range(1, 6):\n",
    "    factorial_list.append((i, math.factorial(i)))\n",
    "print(factorial_list)"
   ]
  },
  {
   "cell_type": "markdown",
   "id": "af45bf95",
   "metadata": {
    "id": "bea983a3"
   },
   "source": [
    "### Exercise 74:\n",
    "Write a Python program that converts a list of dictionaries into a single dictionary by merging them.\n",
    "\n",
    "```python\n",
    "# Exercise 74\n",
    "```\n",
    "\n",
    "---"
   ]
  },
  {
   "cell_type": "code",
   "execution_count": 9,
   "id": "0bc7aa2b",
   "metadata": {},
   "outputs": [
    {
     "name": "stdout",
     "output_type": "stream",
     "text": [
      "{'name': 'Alice', 'age': 31, 'city': 'New York', 'occupation': 'Engineer', 'country': 'USA'}\n"
     ]
    }
   ],
   "source": [
    "def merge_list_of_dicts(dict_list):\n",
    "    merged_dict={}\n",
    "    for d in dict_list:\n",
    "        merged_dict.update(d)\n",
    "    return merged_dict   \n",
    "list_of_dictionaries = [\n",
    "    {\"name\": \"Alice\", \"age\": 30},\n",
    "    {\"city\": \"New York\", \"occupation\": \"Engineer\"},\n",
    "    {\"age\": 31, \"country\": \"USA\"}\n",
    "]\n",
    "single_dictionary = merge_list_of_dicts(list_of_dictionaries)\n",
    "print(single_dictionary)\n"
   ]
  },
  {
   "cell_type": "markdown",
   "id": "5f4b957f",
   "metadata": {
    "id": "bea983a3"
   },
   "source": [
    "### Exercise 75:\n",
    "Write a Python function that checks if a set is a subset of another set.\n",
    "\n",
    "```python\n",
    "# Exercise 75\n",
    "```\n",
    "\n",
    "---"
   ]
  },
  {
   "cell_type": "code",
   "execution_count": 10,
   "id": "9ddb2a1e",
   "metadata": {},
   "outputs": [
    {
     "name": "stdout",
     "output_type": "stream",
     "text": [
      "Is {1, 2, 3} a subset of {1, 2, 3, 4, 5}? True\n",
      "Is {1, 6} a subset of {1, 2, 3, 4, 5}? False\n"
     ]
    }
   ],
   "source": [
    "def is_subset_of_another(set1, set2):\n",
    "    return set1.issubset(set2)\n",
    "set_a = {1, 2, 3}\n",
    "set_b = {1, 2, 3, 4, 5}\n",
    "set_c = {1, 6}\n",
    "\n",
    "print(f\"Is {set_a} a subset of {set_b}? {is_subset_of_another(set_a, set_b)}\")\n",
    "print(f\"Is {set_c} a subset of {set_b}? {is_subset_of_another(set_c, set_b)}\")"
   ]
  },
  {
   "cell_type": "markdown",
   "id": "ac54bc73",
   "metadata": {
    "id": "bea983a3"
   },
   "source": [
    "### Exercise 76:\n",
    "Write a Python program that sorts a list of tuples based on the second element in each tuple.\n",
    "\n",
    "```python\n",
    "# Exercise 76\n",
    "```\n",
    "\n",
    "---"
   ]
  },
  {
   "cell_type": "code",
   "execution_count": 11,
   "id": "0c3e56b7",
   "metadata": {},
   "outputs": [
    {
     "name": "stdout",
     "output_type": "stream",
     "text": [
      "Original list: [('apple', 3), ('banana', 1), ('cherry', 2), ('date', 4)]\n",
      "Sorted list: [('banana', 1), ('cherry', 2), ('apple', 3), ('date', 4)]\n"
     ]
    }
   ],
   "source": [
    "def sort_list_of_tuples_by_second_element(list_of_tuples):\n",
    "    sorted_list = sorted(list_of_tuples, key=lambda x: x[1])\n",
    "    return sorted_list\n",
    "my_list = [('apple', 3), ('banana', 1), ('cherry', 2), ('date', 4)]\n",
    "sorted_my_list = sort_list_of_tuples_by_second_element(my_list)\n",
    "print(f\"Original list: {my_list}\")\n",
    "print(f\"Sorted list: {sorted_my_list}\")"
   ]
  },
  {
   "cell_type": "markdown",
   "id": "2213ad34",
   "metadata": {
    "id": "bea983a3"
   },
   "source": [
    "### Exercise 77:\n",
    "Write a Python function that takes a list of integers and returns a new list with only the positive integers.\n",
    "\n",
    "```python\n",
    "# Exercise 77\n",
    "```\n",
    "\n",
    "---"
   ]
  },
  {
   "cell_type": "code",
   "execution_count": 14,
   "id": "8100810d",
   "metadata": {},
   "outputs": [
    {
     "data": {
      "text/plain": [
       "[2, 4, 6, 8, 9]"
      ]
     },
     "execution_count": 14,
     "metadata": {},
     "output_type": "execute_result"
    }
   ],
   "source": [
    "def get_positive_integers(integer_list):\n",
    "    positive_numbers = []\n",
    "    for number in integer_list:\n",
    "        if number > 0:\n",
    "            positive_numbers.append(number)\n",
    "    return positive_numbers\n",
    "get_positive_integers([2, 4, 6, 8, 9,-1])"
   ]
  },
  {
   "cell_type": "markdown",
   "id": "f0efa022",
   "metadata": {
    "id": "bea983a3"
   },
   "source": [
    "### Exercise 78:\n",
    "Write a Python function that takes two sets and returns their union.\n",
    "\n",
    "```python\n",
    "# Exercise 78\n",
    "```\n",
    "\n",
    "---"
   ]
  },
  {
   "cell_type": "code",
   "execution_count": 15,
   "id": "264a1021",
   "metadata": {},
   "outputs": [
    {
     "name": "stdout",
     "output_type": "stream",
     "text": [
      "The union of {1, 2, 3, 4} and {3, 4, 5, 6} is: {1, 2, 3, 4, 5, 6}\n"
     ]
    }
   ],
   "source": [
    "def get_set_union(set1, set2):\n",
    "    return set1.union(set2)\n",
    "set_a = {1, 2, 3, 4}\n",
    "set_b = {3, 4, 5, 6}\n",
    "union_result = get_set_union(set_a, set_b)\n",
    "print(f\"The union of {set_a} and {set_b} is: {union_result}\")"
   ]
  },
  {
   "cell_type": "markdown",
   "id": "9ef8f842",
   "metadata": {
    "id": "bea983a3"
   },
   "source": [
    "### Exercise 79:\n",
    "Write a Python function that takes a list of numbers and returns the product of all the numbers.\n",
    "\n",
    "```python\n",
    "# Exercise 79\n",
    "```\n",
    "\n",
    "---"
   ]
  },
  {
   "cell_type": "code",
   "execution_count": 16,
   "id": "ad31384c",
   "metadata": {},
   "outputs": [
    {
     "data": {
      "text/plain": [
       "1680"
      ]
     },
     "execution_count": 16,
     "metadata": {},
     "output_type": "execute_result"
    }
   ],
   "source": [
    "def calculate_product(numbers):\n",
    "    product = 1\n",
    "    for num in numbers:\n",
    "        product *= num\n",
    "    return product\n",
    "calculate_product([5, 7, 3, 8, 2, 1])"
   ]
  },
  {
   "cell_type": "markdown",
   "id": "8c72cdfb",
   "metadata": {
    "id": "bea983a3"
   },
   "source": [
    "### Exercise 80:\n",
    "Write a Python program that converts a list of characters into a string.\n",
    "\n",
    "```python\n",
    "# Exercise 80\n",
    "```\n",
    "\n",
    "---"
   ]
  },
  {
   "cell_type": "code",
   "execution_count": 17,
   "id": "49243bd3",
   "metadata": {},
   "outputs": [
    {
     "name": "stdout",
     "output_type": "stream",
     "text": [
      "The list of characters: ['P', 'y', 't', 'h', 'o', 'n']\n",
      "The converted string: Python\n"
     ]
    }
   ],
   "source": [
    "def list_to_string(char_list):\n",
    "    return \"\".join(char_list)\n",
    "letters = ['P', 'y', 't', 'h', 'o', 'n']\n",
    "word = list_to_string(letters)\n",
    "print(f\"The list of characters: {letters}\")\n",
    "print(f\"The converted string: {word}\")"
   ]
  },
  {
   "cell_type": "markdown",
   "id": "75892ac2",
   "metadata": {
    "id": "bea983a3"
   },
   "source": [
    "### Exercise 81:\n",
    "Write a Python program that finds the second largest number in a list of integers.\n",
    "\n",
    "```python\n",
    "# Exercise 81\n",
    "```\n",
    "\n",
    "---"
   ]
  },
  {
   "cell_type": "code",
   "execution_count": 18,
   "id": "cdf1fe58",
   "metadata": {},
   "outputs": [
    {
     "name": "stdout",
     "output_type": "stream",
     "text": [
      "The second largest number in [10, 20, 4, 45, 99] is: 45\n"
     ]
    }
   ],
   "source": [
    "def find_second_largest(numbers):\n",
    "    if not numbers:\n",
    "        return None\n",
    "    unique_numbers = sorted(list(set(numbers)))\n",
    "    if len(unique_numbers) < 2:\n",
    "        return None  \n",
    "    return unique_numbers[-2] \n",
    "list1 = [10, 20, 4, 45, 99]\n",
    "print(f\"The second largest number in {list1} is: {find_second_largest(list1)}\")"
   ]
  },
  {
   "cell_type": "markdown",
   "id": "c08c9e51",
   "metadata": {
    "id": "bea983a3"
   },
   "source": [
    "### Exercise 82:\n",
    "Write a Python function that takes a dictionary and returns a list of its keys in sorted order.\n",
    "\n",
    "```python\n",
    "# Exercise 82\n",
    "```\n",
    "\n",
    "---"
   ]
  },
  {
   "cell_type": "code",
   "execution_count": 19,
   "id": "bb300121",
   "metadata": {},
   "outputs": [
    {
     "name": "stdout",
     "output_type": "stream",
     "text": [
      "['a', 'b', 'c']\n"
     ]
    }
   ],
   "source": [
    "def get_sorted_keys(input_dict):\n",
    "    return sorted(input_dict.keys())\n",
    "data={'b':2, 'a':1, 'c':3}\n",
    "print(get_sorted_keys(data))"
   ]
  },
  {
   "cell_type": "markdown",
   "id": "0c97b2cb",
   "metadata": {
    "id": "bea983a3"
   },
   "source": [
    "### Exercise 83:\n",
    "Write a Python program that finds the most common element in a list.\n",
    "\n",
    "```python\n",
    "# Exercise 83\n",
    "```\n",
    "\n",
    "---"
   ]
  },
  {
   "cell_type": "code",
   "execution_count": 24,
   "id": "c80fb45a",
   "metadata": {},
   "outputs": [
    {
     "name": "stdout",
     "output_type": "stream",
     "text": [
      "The most common element in [1, 2, 3, 2, 1, 2, 4, 5, 2] is: 2\n"
     ]
    }
   ],
   "source": [
    "from collections import Counter\n",
    "def find_most_common_element(input_list):\n",
    "    if not input_list:\n",
    "        return None\n",
    "    element_counts = Counter(input_list)\n",
    "    most_common_items = element_counts.most_common(1)\n",
    "    most_common_element = most_common_items[0][0]\n",
    "    return most_common_element\n",
    "my_list1 = [1, 2, 3, 2, 1, 2, 4, 5, 2]\n",
    "most_common1 = find_most_common_element(my_list1)\n",
    "print(f\"The most common element in {my_list1} is: {most_common1}\")"
   ]
  },
  {
   "cell_type": "markdown",
   "id": "30f897d4",
   "metadata": {
    "id": "bea983a3"
   },
   "source": [
    "### Exercise 84:\n",
    "Write a Python function that takes a list of tuples and returns a list of the tuples sorted by the first element.\n",
    "\n",
    "```python\n",
    "# Exercise 84\n",
    "```\n",
    "\n",
    "---"
   ]
  },
  {
   "cell_type": "code",
   "execution_count": 25,
   "id": "a3f79302",
   "metadata": {},
   "outputs": [
    {
     "name": "stdout",
     "output_type": "stream",
     "text": [
      "[(1, 'a'), (2, 'b'), (3, 'c')]\n"
     ]
    }
   ],
   "source": [
    "def sort_tuples_by_first_element(list_of_tuples):\n",
    "    return sorted(list_of_tuples, key=lambda x: x[0])\n",
    "data=[(3, 'c'), (1, 'a'), (2, 'b')]\n",
    "result=sort_tuples_by_first_element(data)\n",
    "print(result)"
   ]
  },
  {
   "cell_type": "markdown",
   "id": "3a19777a",
   "metadata": {
    "id": "bea983a3"
   },
   "source": [
    "### Exercise 85:\n",
    "Write a Python program that removes duplicates from a list of dictionaries.\n",
    "\n",
    "```python\n",
    "# Exercise 85\n",
    "```\n",
    "\n",
    "---"
   ]
  },
  {
   "cell_type": "code",
   "execution_count": 26,
   "id": "d255d4ec",
   "metadata": {},
   "outputs": [
    {
     "name": "stdout",
     "output_type": "stream",
     "text": [
      "[{'name': 'Alice', 'age': 30}, {'name': 'Bob', 'age': 25}, {'name': 'Charlie', 'age': 35}]\n"
     ]
    }
   ],
   "source": [
    "def remove_duplicate_dicts(list_of_dicts):\n",
    "    unique_dicts = []\n",
    "    seen_dicts = set()\n",
    "\n",
    "    for d in list_of_dicts:\n",
    "        frozen_dict = tuple(sorted(d.items()))\n",
    "        if frozen_dict not in seen_dicts:\n",
    "            seen_dicts.add(frozen_dict)\n",
    "            unique_dicts.append(d)\n",
    "    return unique_dicts\n",
    "data = [\n",
    "    {\"name\": \"Alice\", \"age\": 30},\n",
    "    {\"name\": \"Bob\", \"age\": 25},\n",
    "    {\"name\": \"Alice\", \"age\": 30}, \n",
    "    {\"name\": \"Charlie\", \"age\": 35},\n",
    "    {\"age\": 25, \"name\": \"Bob\"},  \n",
    "]\n",
    "\n",
    "unique_data = remove_duplicate_dicts(data)\n",
    "print(unique_data)"
   ]
  },
  {
   "cell_type": "markdown",
   "id": "f5c36329",
   "metadata": {
    "id": "bea983a3"
   },
   "source": [
    "### Exercise 86:\n",
    "Write a Python function that takes a list of numbers and returns the minimum and maximum numbers in the list.\n",
    "\n",
    "```python\n",
    "# Exercise 86\n",
    "```\n",
    "\n",
    "---"
   ]
  },
  {
   "cell_type": "code",
   "execution_count": 27,
   "id": "8a3937da",
   "metadata": {},
   "outputs": [
    {
     "name": "stdout",
     "output_type": "stream",
     "text": [
      "Minimum number: 1\n",
      "Maximum number: 9\n"
     ]
    }
   ],
   "source": [
    "def find_min_max(numbers):\n",
    "    if not numbers:\n",
    "        return None, None\n",
    "\n",
    "    min_num = numbers[0]\n",
    "    max_num = numbers[0]\n",
    "\n",
    "    for num in numbers:\n",
    "        if num < min_num:\n",
    "            min_num = num\n",
    "        if num > max_num:\n",
    "            max_num = num\n",
    "        \n",
    "        \n",
    "    return min_num, max_num\n",
    "\n",
    "my_list = [4, 7, 2, 9, 1, 5]\n",
    "minimum, maximum = find_min_max(my_list)\n",
    "print(f\"Minimum number: {minimum}\")\n",
    "print(f\"Maximum number: {maximum}\")"
   ]
  },
  {
   "cell_type": "markdown",
   "id": "f67ef710",
   "metadata": {
    "id": "bea983a3"
   },
   "source": [
    "### Exercise 87:\n",
    "Write a Python program that creates a list of tuples from two lists.\n",
    "\n",
    "```python\n",
    "# Exercise 87\n",
    "```\n",
    "\n",
    "---"
   ]
  },
  {
   "cell_type": "code",
   "execution_count": 28,
   "id": "ceadf35f",
   "metadata": {},
   "outputs": [
    {
     "name": "stdout",
     "output_type": "stream",
     "text": [
      "List 1: [1, 2, 3, 4]\n",
      "List 2: ['apple', 'banana', 'cherry', 'date']\n",
      "List of tuples: [(1, 'apple'), (2, 'banana'), (3, 'cherry'), (4, 'date')]\n"
     ]
    }
   ],
   "source": [
    "def create_list_of_tuples(list1, list2):\n",
    "    return list(zip(list1, list2))\n",
    "                \n",
    "list_a = [1, 2, 3, 4]\n",
    "list_b = ['apple', 'banana', 'cherry', 'date']\n",
    "\n",
    "result_tuples = create_list_of_tuples(list_a, list_b)\n",
    "print(f\"List 1: {list_a}\")\n",
    "print(f\"List 2: {list_b}\")\n",
    "print(f\"List of tuples: {result_tuples}\")"
   ]
  },
  {
   "cell_type": "markdown",
   "id": "ed11a2ab",
   "metadata": {
    "id": "bea983a3"
   },
   "source": [
    "### Exercise 88:\n",
    "Write a Python function that takes a list of strings and returns a list of the strings in reverse order.\n",
    "\n",
    "```python\n",
    "# Exercise 88\n",
    "```\n",
    "\n",
    "---"
   ]
  },
  {
   "cell_type": "code",
   "execution_count": 29,
   "id": "040c960c",
   "metadata": {},
   "outputs": [
    {
     "name": "stdout",
     "output_type": "stream",
     "text": [
      "Original list: ['apple', 'banana', 'cherry', 'date']\n",
      "Reversed list: ['date', 'cherry', 'banana', 'apple']\n"
     ]
    }
   ],
   "source": [
    "def reverse_string_list(string_list):\n",
    "    return string_list[::-1]\n",
    "my_list = [\"apple\", \"banana\", \"cherry\", \"date\"]\n",
    "reversed_list = reverse_string_list(my_list)\n",
    "print(f\"Original list: {my_list}\")\n",
    "print(f\"Reversed list: {reversed_list}\")"
   ]
  },
  {
   "cell_type": "markdown",
   "id": "4c9eb9a1",
   "metadata": {
    "id": "bea983a3"
   },
   "source": [
    "### Exercise 89:\n",
    "Write a Python function that takes a list of integers and returns the sum of all odd numbers.\n",
    "\n",
    "```python\n",
    "# Exercise 89\n",
    "```\n",
    "\n",
    "---"
   ]
  },
  {
   "cell_type": "code",
   "execution_count": 30,
   "id": "c0960fda",
   "metadata": {},
   "outputs": [
    {
     "data": {
      "text/plain": [
       "9"
      ]
     },
     "execution_count": 30,
     "metadata": {},
     "output_type": "execute_result"
    }
   ],
   "source": [
    "def sum_odd_numbers(numbers):\n",
    "    total_sum = 0\n",
    "    for number in numbers:\n",
    "        if number % 2 != 0:\n",
    "            total_sum += number\n",
    "    return total_sum\n",
    "sum_odd_numbers([1, 2, 2, 3, 4, 4, 4, 5])"
   ]
  },
  {
   "cell_type": "markdown",
   "id": "adacf1f8",
   "metadata": {
    "id": "bea983a3"
   },
   "source": [
    "### Exercise 90:\n",
    "Write a Python program that checks if a string is a palindrome.\n",
    "\n",
    "```python\n",
    "# Exercise 90\n",
    "```\n",
    "\n",
    "---"
   ]
  },
  {
   "cell_type": "code",
   "execution_count": 31,
   "id": "696729b4",
   "metadata": {},
   "outputs": [
    {
     "name": "stdout",
     "output_type": "stream",
     "text": [
      "'Racecar' is a palindrome: True\n",
      "'Hello' is a palindrome: False\n",
      "'A man, a plan, a canal: Panama' is a palindrome: True\n",
      "'Madam' is a palindrome: True\n"
     ]
    }
   ],
   "source": [
    "def is_palindrome(text):\n",
    "    cleaned_text = ''.join(char for char in text if char.isalnum()).lower()\n",
    "    return cleaned_text == cleaned_text[::-1]\n",
    "string1 = \"Racecar\"\n",
    "string2 = \"Hello\"\n",
    "string3 = \"A man, a plan, a canal: Panama\"\n",
    "string4 = \"Madam\"\n",
    "print(f\"'{string1}' is a palindrome: {is_palindrome(string1)}\")\n",
    "print(f\"'{string2}' is a palindrome: {is_palindrome(string2)}\")\n",
    "print(f\"'{string3}' is a palindrome: {is_palindrome(string3)}\")\n",
    "print(f\"'{string4}' is a palindrome: {is_palindrome(string4)}\")"
   ]
  },
  {
   "cell_type": "markdown",
   "id": "f282508f",
   "metadata": {
    "id": "bea983a3"
   },
   "source": [
    "### Exercise 91:\n",
    "Write a Python program that finds the median of a list of numbers.\n",
    "\n",
    "```python\n",
    "# Exercise 91\n",
    "```\n",
    "\n",
    "---"
   ]
  },
  {
   "cell_type": "code",
   "execution_count": 33,
   "id": "5361032e",
   "metadata": {},
   "outputs": [
    {
     "name": "stdout",
     "output_type": "stream",
     "text": [
      "The median of [3, 1, 4, 1, 5, 9, 2, 6] is: 3.5\n"
     ]
    }
   ],
   "source": [
    "def find_median(numbers):\n",
    "    if not numbers:\n",
    "        raise ValueError(\"Cannot calculate median of an empty list.\")\n",
    "    sorted_numbers = sorted(numbers)\n",
    "    n = len(sorted_numbers)\n",
    "\n",
    "    if n % 2 == 0:\n",
    "        mid1 = sorted_numbers[n // 2 - 1]\n",
    "        mid2 = sorted_numbers[n // 2]\n",
    "        median = (mid1 + mid2) / 2\n",
    "    else:\n",
    "        median = sorted_numbers[n // 2]\n",
    "    return median\n",
    "list1 = [3, 1, 4, 1, 5, 9, 2, 6]\n",
    "print(f\"The median of {list1} is: {find_median(list1)}\")"
   ]
  },
  {
   "cell_type": "markdown",
   "id": "79af7697",
   "metadata": {
    "id": "bea983a3"
   },
   "source": [
    "### Exercise 92:\n",
    "Write a Python function that takes a list of dictionaries and returns a dictionary with the total value for each key.\n",
    "\n",
    "```python\n",
    "# Exercise 92\n",
    "```\n",
    "\n",
    "---"
   ]
  },
  {
   "cell_type": "code",
   "execution_count": 34,
   "id": "25f04585",
   "metadata": {},
   "outputs": [
    {
     "name": "stdout",
     "output_type": "stream",
     "text": [
      "{'a': 4, 'b': 7, 'c': 7}\n"
     ]
    }
   ],
   "source": [
    "def sum_dict_values(list_of_dicts):\n",
    "    total_values = {}\n",
    "    for d in list_of_dicts:\n",
    "        for key, value in d.items():\n",
    "            total_values[key] = total_values.get(key, 0) + value\n",
    "    return total_values\n",
    "liste=[\n",
    "    {'a':1, 'b':2},\n",
    "    {'a':3, 'b':4, 'c':5},\n",
    "    {'b':1, 'c':2}\n",
    "]\n",
    "print(sum_dict_values(liste))"
   ]
  },
  {
   "cell_type": "markdown",
   "id": "49e0c27f",
   "metadata": {
    "id": "bea983a3"
   },
   "source": [
    "### Exercise 93:\n",
    "Write a Python program that calculates the mode of a list of numbers.\n",
    "\n",
    "```python\n",
    "# Exercise 93\n",
    "```\n",
    "\n",
    "---"
   ]
  },
  {
   "cell_type": "code",
   "execution_count": 35,
   "id": "f0c165a2",
   "metadata": {},
   "outputs": [
    {
     "name": "stdout",
     "output_type": "stream",
     "text": [
      "Mode(s) of [1, 2, 2, 3, 4, 4, 4, 5]: [4]\n",
      "Mode(s) of [1, 1, 2, 2, 3, 3]: []\n",
      "Mode(s) of [1, 2, 3, 4, 5]: []\n",
      "Mode(s) of [7]: [7]\n",
      "Mode(s) of []: []\n"
     ]
    }
   ],
   "source": [
    "def calculate_mode(numbers):\n",
    "    if not numbers:\n",
    "        return []  \n",
    "    counts = Counter(numbers)\n",
    "    max_frequency = 0\n",
    "    if counts: \n",
    "        max_frequency = max(counts.values())\n",
    "    modes = [num for num, freq in counts.items() if freq == max_frequency]\n",
    "    if len(modes) == len(counts) and len(numbers) > 1:\n",
    "        return [] \n",
    "    else:\n",
    "        return modes\n",
    "list1 = [1, 2, 2, 3, 4, 4, 4, 5]\n",
    "list2 = [1, 1, 2, 2, 3, 3] \n",
    "list3 = [1, 2, 3, 4, 5]    \n",
    "list4 = [7]                \n",
    "list5 = []                \n",
    "\n",
    "print(f\"Mode(s) of {list1}: {calculate_mode(list1)}\")\n",
    "print(f\"Mode(s) of {list2}: {calculate_mode(list2)}\")\n",
    "print(f\"Mode(s) of {list3}: {calculate_mode(list3)}\")\n",
    "print(f\"Mode(s) of {list4}: {calculate_mode(list4)}\")\n",
    "print(f\"Mode(s) of {list5}: {calculate_mode(list5)}\")"
   ]
  },
  {
   "cell_type": "markdown",
   "id": "1e519a07",
   "metadata": {
    "id": "bea983a3"
   },
   "source": [
    "### Exercise 94:\n",
    "Write a Python function that takes a list of numbers and returns the sum of the squares of all the numbers.\n",
    "\n",
    "```python\n",
    "# Exercise 94\n",
    "```\n",
    "\n",
    "---"
   ]
  },
  {
   "cell_type": "code",
   "execution_count": 36,
   "id": "f512a1e9",
   "metadata": {},
   "outputs": [
    {
     "data": {
      "text/plain": [
       "91"
      ]
     },
     "execution_count": 36,
     "metadata": {},
     "output_type": "execute_result"
    }
   ],
   "source": [
    "def sum_of_squares(numbers):\n",
    "    total_sum = 0\n",
    "    for number in numbers:\n",
    "        total_sum += number ** 2\n",
    "    return total_sum\n",
    "sum_of_squares([1, 2, 2, 3, 4, 4, 4, 5])"
   ]
  },
  {
   "cell_type": "markdown",
   "id": "fbf1a06c",
   "metadata": {
    "id": "bea983a3"
   },
   "source": [
    "### Exercise 95:\n",
    "Write a Python program that creates a list of tuples, where each tuple contains a number and its cube for numbers from 1 to 5.\n",
    "\n",
    "```python\n",
    "# Exercise 95\n",
    "```\n",
    "\n",
    "---"
   ]
  },
  {
   "cell_type": "code",
   "execution_count": 37,
   "id": "3892637f",
   "metadata": {},
   "outputs": [
    {
     "name": "stdout",
     "output_type": "stream",
     "text": [
      "[(1, 1), (2, 8), (3, 27), (4, 64), (5, 125)]\n"
     ]
    }
   ],
   "source": [
    "number_cubes = [(num, num**3) for num in range(1, 6)]\n",
    "print(number_cubes)"
   ]
  },
  {
   "cell_type": "markdown",
   "id": "48b47c1b",
   "metadata": {
    "id": "bea983a3"
   },
   "source": [
    "### Exercise 96:\n",
    "Write a Python function that returns a list of all prime numbers up to `n`.\n",
    "\n",
    "```python\n",
    "# Exercise 96\n",
    "```\n",
    "\n",
    "---"
   ]
  },
  {
   "cell_type": "code",
   "execution_count": 38,
   "id": "06301bb3",
   "metadata": {},
   "outputs": [
    {
     "data": {
      "text/plain": [
       "[2, 3, 5, 7, 11, 13, 17, 19]"
      ]
     },
     "execution_count": 38,
     "metadata": {},
     "output_type": "execute_result"
    }
   ],
   "source": [
    "def find_primes_up_to_n(n: int) -> list[int]:\n",
    "    if n < 2:\n",
    "        return []\n",
    "    is_prime = [True] * (n + 1)\n",
    "    is_prime[0] = is_prime[1] = False  \n",
    "    for p in range(2, int(n**0.5) + 1):\n",
    "        if is_prime[p]:\n",
    "            for multiple in range(p * p, n + 1, p):\n",
    "                is_prime[multiple] = False\n",
    "    primes = [i for i, prime_status in enumerate(is_prime) if prime_status]\n",
    "    return primes\n",
    "find_primes_up_to_n(20)\n"
   ]
  },
  {
   "cell_type": "markdown",
   "id": "1d369fcf",
   "metadata": {
    "id": "bea983a3"
   },
   "source": [
    "### Exercise 97:\n",
    "Write a Python program that finds the common keys between two dictionaries.\n",
    "\n",
    "```python\n",
    "# Exercise 97\n",
    "```\n",
    "\n",
    "---"
   ]
  },
  {
   "cell_type": "code",
   "execution_count": 39,
   "id": "64c2f0a5",
   "metadata": {},
   "outputs": [
    {
     "name": "stdout",
     "output_type": "stream",
     "text": [
      "Common keys: {'date', 'banana'}\n"
     ]
    }
   ],
   "source": [
    "def find_common_keys(dict1, dict2):\n",
    "    keys1 = set(dict1.keys())\n",
    "    keys2 = set(dict2.keys())\n",
    "    common_keys = keys1.intersection(keys2)\n",
    "    return common_keys\n",
    "dictionary_a = {'apple': 1, 'banana': 2, 'cherry': 3, 'date': 4}\n",
    "dictionary_b = {'banana': 5, 'date': 6, 'elderberry': 7, 'fig': 8}\n",
    "common_keys_result = find_common_keys(dictionary_a, dictionary_b)\n",
    "print(f\"Common keys: {common_keys_result}\")"
   ]
  },
  {
   "cell_type": "markdown",
   "id": "3029cf8f",
   "metadata": {
    "id": "bea983a3"
   },
   "source": [
    "### Exercise 98:\n",
    "Write a Python function that takes a list of strings and returns a list of the strings that contain more than 5 characters.\n",
    "\n",
    "```python\n",
    "# Exercise 98\n",
    "```\n",
    "\n",
    "---"
   ]
  },
  {
   "cell_type": "code",
   "execution_count": 40,
   "id": "c9017dd9",
   "metadata": {},
   "outputs": [
    {
     "name": "stdout",
     "output_type": "stream",
     "text": [
      "['banana', 'grapefruit', 'orange']\n"
     ]
    }
   ],
   "source": [
    "def filter_long_strings(string_list):\n",
    "    long_strings = [s for s in string_list if len(s) > 5]\n",
    "    return long_strings\n",
    "my_strings = [\"apple\", \"banana\", \"kiwi\", \"grapefruit\", \"orange\", \"pear\"]\n",
    "filtered_strings = filter_long_strings(my_strings)\n",
    "print(filtered_strings)"
   ]
  },
  {
   "cell_type": "markdown",
   "id": "8606089d",
   "metadata": {
    "id": "bea983a3"
   },
   "source": [
    "### Exercise 99:\n",
    "Write a Python program that converts a list of strings into a list of tuples, where each tuple contains the string and its length.\n",
    "\n",
    "```python\n",
    "# Exercise 99\n",
    "```\n",
    "\n",
    "---"
   ]
  },
  {
   "cell_type": "code",
   "execution_count": 41,
   "id": "11595db6",
   "metadata": {},
   "outputs": [
    {
     "name": "stdout",
     "output_type": "stream",
     "text": [
      "Original list of strings: ['apple', 'banana', 'cherry', 'date']\n",
      "List of tuples (string, length): [('apple', 5)]\n",
      "\n",
      "Original empty list: []\n",
      "List of tuples (string, length) for empty list: None\n",
      "\n",
      "Original list with a single string: ['hello']\n",
      "List of tuples (string, length) for single string list: [('hello', 5)]\n"
     ]
    }
   ],
   "source": [
    "def convert_strings_to_tuples_with_length(string_list):\n",
    "    result_list = []\n",
    "    for s in string_list:\n",
    "        result_list.append((s, len(s)))\n",
    "        return result_list\n",
    "my_strings = [\"apple\", \"banana\", \"cherry\", \"date\"]\n",
    "tuples_with_length = convert_strings_to_tuples_with_length(my_strings)\n",
    "print(f\"Original list of strings: {my_strings}\")\n",
    "print(f\"List of tuples (string, length): {tuples_with_length}\")\n",
    "\n",
    "empty_list = []\n",
    "result_empty = convert_strings_to_tuples_with_length(empty_list)\n",
    "print(f\"\\nOriginal empty list: {empty_list}\")\n",
    "print(f\"List of tuples (string, length) for empty list: {result_empty}\")\n",
    "\n",
    "single_string_list = [\"hello\"]\n",
    "result_single = convert_strings_to_tuples_with_length(single_string_list)\n",
    "print(f\"\\nOriginal list with a single string: {single_string_list}\")\n",
    "print(f\"List of tuples (string, length) for single string list: {result_single}\")"
   ]
  },
  {
   "cell_type": "markdown",
   "id": "bea983a3",
   "metadata": {
    "id": "bea983a3"
   },
   "source": [
    "### Exercise 100:\n",
    "Write a Python function that takes a list of dictionaries and returns a new dictionary by summing the values of each key across all dictionaries.\n",
    "\n",
    "```python\n",
    "# Exercise 100\n",
    "```\n",
    "\n",
    "---"
   ]
  },
  {
   "cell_type": "code",
   "execution_count": 42,
   "id": "d36bd907",
   "metadata": {},
   "outputs": [
    {
     "name": "stdout",
     "output_type": "stream",
     "text": [
      "{'a': 6, 'b': 4, 'c': 5}\n"
     ]
    }
   ],
   "source": [
    "def sum_dict_values_by_key(list_of_dicts):\n",
    "    summed_dict = defaultdict(int)  \n",
    "    for d in list_of_dicts:\n",
    "        for key, value in d.items():\n",
    "            summed_dict[key] += value\n",
    "    return dict(summed_dict) \n",
    "dicts=[{'a':2, 'b':3}, {'a':4, 'b':1, 'c':5}]\n",
    "print(sum_dict_values(dicts))"
   ]
  },
  {
   "cell_type": "code",
   "execution_count": null,
   "id": "685b6f7e",
   "metadata": {},
   "outputs": [],
   "source": []
  }
 ],
 "metadata": {
  "colab": {
   "provenance": []
  },
  "kernelspec": {
   "display_name": "Python 3 (ipykernel)",
   "language": "python",
   "name": "python3"
  },
  "language_info": {
   "codemirror_mode": {
    "name": "ipython",
    "version": 3
   },
   "file_extension": ".py",
   "mimetype": "text/x-python",
   "name": "python",
   "nbconvert_exporter": "python",
   "pygments_lexer": "ipython3",
   "version": "3.9.12"
  }
 },
 "nbformat": 4,
 "nbformat_minor": 5
}
